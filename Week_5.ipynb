{
  "nbformat": 4,
  "nbformat_minor": 0,
  "metadata": {
    "colab": {
      "provenance": [],
      "collapsed_sections": [
        "FSDbBz7ucm_a",
        "5eh8cI4PeVEb"
      ],
      "include_colab_link": true
    },
    "kernelspec": {
      "name": "python3",
      "display_name": "Python 3"
    },
    "language_info": {
      "name": "python"
    }
  },
  "cells": [
    {
      "cell_type": "markdown",
      "metadata": {
        "id": "view-in-github",
        "colab_type": "text"
      },
      "source": [
        "<a href=\"https://colab.research.google.com/github/SaxenaVaishnavi/Machine-Learning-Techniques/blob/main/Week_5.ipynb\" target=\"_parent\"><img src=\"https://colab.research.google.com/assets/colab-badge.svg\" alt=\"Open In Colab\"/></a>"
      ]
    },
    {
      "cell_type": "markdown",
      "source": [
        "## Importing the libraries"
      ],
      "metadata": {
        "id": "WT2nf7VJXHsH"
      }
    },
    {
      "cell_type": "code",
      "execution_count": 1,
      "metadata": {
        "id": "0kgvCN0n3_1p"
      },
      "outputs": [],
      "source": [
        "import numpy as np\n",
        "import matplotlib.pyplot as plt"
      ]
    },
    {
      "cell_type": "markdown",
      "source": [
        "This assignments has two sections:\n",
        "* Linear Regression\n",
        "* Kernel Regression\n",
        "\n",
        "\n"
      ],
      "metadata": {
        "id": "iBY90BqPXO31"
      }
    },
    {
      "cell_type": "markdown",
      "source": [
        "# Section 1:\n",
        "\n",
        "**Linear Regression**"
      ],
      "metadata": {
        "id": "X1nmn2q15Vzn"
      }
    },
    {
      "cell_type": "markdown",
      "source": [
        "We will use the Boston_housing dataset for the regression problem. Run the below cell to get the following variables:\n",
        "* `Training_data` = Training data matrix of shape $(n, d)$\n",
        "* `labels` = label vector corresponding to the training data\n",
        "* `test_data` = Test data matrix of shape $(n_1, d)$ where $n_1$ is the number of examples in test dataset.\n",
        "* `test_labels` = label vector corresponding to the test data\n",
        "\n",
        "Use this dataset for the regression problem."
      ],
      "metadata": {
        "id": "aComJ_Fd5dnI"
      }
    },
    {
      "cell_type": "code",
      "source": [
        "from keras.datasets import boston_housing\n",
        "Train, test = boston_housing.load_data(seed= 111)\n",
        "Training_data, labels = Train[0], Train[1]\n",
        "Test_data, test_labels = test[0], test[1]"
      ],
      "metadata": {
        "id": "53UCtcH64nsC"
      },
      "execution_count": 2,
      "outputs": []
    },
    {
      "cell_type": "markdown",
      "source": [
        "## Question 1\n",
        "How many examples are there in the training dataset?\n",
        "\n"
      ],
      "metadata": {
        "id": "R0Dnj-Qha47p"
      }
    },
    {
      "cell_type": "code",
      "source": [
        "## Enter your solution here\n",
        "Training_data.shape[0]"
      ],
      "metadata": {
        "id": "vpLeerN2mGRi",
        "colab": {
          "base_uri": "https://localhost:8080/"
        },
        "outputId": "532dddaa-da55-4b9e-c3e8-5ec2028deeb8"
      },
      "execution_count": 3,
      "outputs": [
        {
          "output_type": "execute_result",
          "data": {
            "text/plain": [
              "404"
            ]
          },
          "metadata": {},
          "execution_count": 3
        }
      ]
    },
    {
      "cell_type": "markdown",
      "source": [
        "## Question 2\n",
        "How many examples are there in the test dataset?\n",
        "\n"
      ],
      "metadata": {
        "id": "ChYFPOV5b5jZ"
      }
    },
    {
      "cell_type": "code",
      "source": [
        "## Enter your solution here\n",
        "Test_data.shape[0]"
      ],
      "metadata": {
        "id": "0XK7s98bb8PY",
        "colab": {
          "base_uri": "https://localhost:8080/"
        },
        "outputId": "a003236d-a090-48dd-a78c-13d766a0a149"
      },
      "execution_count": 4,
      "outputs": [
        {
          "output_type": "execute_result",
          "data": {
            "text/plain": [
              "102"
            ]
          },
          "metadata": {},
          "execution_count": 4
        }
      ]
    },
    {
      "cell_type": "markdown",
      "source": [
        "## Question 3\n",
        "\n",
        "How many features are there in the dataset?\n",
        "\n"
      ],
      "metadata": {
        "id": "ZYLLXlAacL5c"
      }
    },
    {
      "cell_type": "code",
      "source": [
        "## Enter your solution here\n",
        "Training_data.shape[1]"
      ],
      "metadata": {
        "id": "rGvr9_jkO7NA",
        "colab": {
          "base_uri": "https://localhost:8080/"
        },
        "outputId": "96141b1b-5e6a-4540-ec15-e3b68b6b83b2"
      },
      "execution_count": 5,
      "outputs": [
        {
          "output_type": "execute_result",
          "data": {
            "text/plain": [
              "13"
            ]
          },
          "metadata": {},
          "execution_count": 5
        }
      ]
    },
    {
      "cell_type": "markdown",
      "source": [
        "Linear regression model for the dataset ${\\mathbb{x}, y}$ is given as\n",
        "$$h_w(\\mathbb{x}) = w_1x^{1}+w_2x^{2}+...+w_dx^{d} =  \\mathbb{x}^Tw\n",
        "$$\n",
        "\n",
        "where $x^{i}$ is the $i^{th}$ feature, $\\mathbb{x}$ is the feature matrix of shape $(d, n)$ and $w = [w_1, w_2, ...w_d]^T$ is the weight vector.\n",
        "\n",
        "\n",
        "Notice that above model always pass through the origin but for a given dataset, best fit model need not pass through the origin. To tackle this issue, we add an intercept $w_0$ in the model and set the corresponding featrue $x^{0}$ to $1$. That is\n",
        "\n",
        "$$h_w(\\mathbb{x}) =w_0x^{0}+ w_1x^{1}+w_2x^{2}+...+w_dx^{n} =  \\mathbb{x}^Tw\n",
        "$$\n",
        "\n",
        "We call $x^{0}$ the dummy feature and set its value to 1 for each examples. Now $w$ is of shape $(d+1, 1)$ and $\\mathbb{x}$ is of shape $(d+1, n)$ where the first row of $\\mathbb{x}$ has entries as 1.\n"
      ],
      "metadata": {
        "id": "KmF4HhMmhx9R"
      }
    },
    {
      "cell_type": "markdown",
      "source": [
        "## Task\n",
        "\n",
        "Add the dummy feature in the feature matrix `Training_data` and test data matrix `test_data`. We will be using this new feature matrices (after adding te dummy feature) for learning the model.\n",
        "\n",
        "Note: As per your convenience, you can convert the shape of the training dataset to $(d, n)$."
      ],
      "metadata": {
        "id": "kN5fsfqfmX_w"
      }
    },
    {
      "cell_type": "code",
      "source": [
        "## Enter your solution here\n",
        "Training_data_with_dummy = np.vstack([np.ones(Training_data.shape[0]), Training_data.T]).T\n",
        "Test_data_with_dummy = np.vstack([np.ones(Test_data.shape[0]), Test_data.T]).T\n",
        "\n",
        "print(\"Shape of training data with dummy feature:\", Training_data_with_dummy.shape)\n",
        "print(\"Shape of test data with dummy feature:\", Test_data_with_dummy.shape)"
      ],
      "metadata": {
        "id": "wic4nhW47fOv",
        "colab": {
          "base_uri": "https://localhost:8080/"
        },
        "outputId": "15960da9-39e1-469f-f11c-b954cae7d8e8"
      },
      "execution_count": 6,
      "outputs": [
        {
          "output_type": "stream",
          "name": "stdout",
          "text": [
            "Shape of training data with dummy feature: (404, 14)\n",
            "Shape of test data with dummy feature: (102, 14)\n"
          ]
        }
      ]
    },
    {
      "cell_type": "markdown",
      "source": [
        "## Question 4\n",
        "If the solution of optimization problem is obtained by setting the first derivative of loss function (squared loss) to zero, find the value of $w_0+w_1+...w_d$.\n",
        "\n",
        "---\n",
        "\n",
        "In linear regression, the objective is to minimize the squared loss function, which is:\n",
        "\n",
        "$$\n",
        "L(w) = \\sum_{i=1}^n (y_i - \\mathbb{x}_i^T w)^2\n",
        "$$\n",
        "\n",
        "where:\n",
        "- $y_i$ is the actual label for the $i$-th data point,\n",
        "- $\\mathbb{x}_i^T$ is the feature vector for the $i$-th data point,\n",
        "- $w$ is the weight vector (which includes the intercept term $w_0$).\n",
        "\n",
        "### Step 1: First derivative of the loss function\n",
        "\n",
        "To find the minimum, we take the derivative of the loss function with respect to the weights $w$ and set it to zero. The derivative of the squared loss with respect to $w$ is:\n",
        "\n",
        "$$\n",
        "\\frac{\\partial L(w)}{\\partial w} = -2 \\sum_{i=1}^n \\mathbb{x}_i (y_i - \\mathbb{x}_i^T w)\n",
        "$$\n",
        "\n",
        "### Step 2: Set the derivative to zero\n",
        "\n",
        "We set the gradient to zero to find the minimum:\n",
        "\n",
        "$$\n",
        "-2 \\sum_{i=1}^n \\mathbb{x}_i (y_i - \\mathbb{x}_i^T w) = 0\n",
        "$$\n",
        "\n",
        "Simplifying this equation:\n",
        "\n",
        "$$\n",
        "\\sum_{i=1}^n \\mathbb{x}_i y_i = \\sum_{i=1}^n \\mathbb{x}_i \\mathbb{x}_i^T w\n",
        "$$\n",
        "\n",
        "### Step 3: Solving for $w$\n",
        "\n",
        "We can now solve for the weight vector $w$:\n",
        "\n",
        "$$\n",
        "X^T y = X^T X w\n",
        "$$\n",
        "\n",
        "where $X$ is the matrix of features (with the dummy feature added) and $y$ is the vector of labels.\n",
        "\n",
        "This leads to the **normal equation** for linear regression:\n",
        "\n",
        "$$\n",
        "w = (X^T X)^{-1} X^T y\n",
        "$$\n",
        "\n",
        "### Step 4: Sum of the weights\n",
        "\n",
        "To find the value of $w_0 + w_1 + \\dots + w_d$, we need to compute the sum of the components of the weight vector $w$. This is done by summing the elements of $w$:\n",
        "\n",
        "$$\n",
        "w_0 + w_1 + \\dots + w_d = \\mathbf{1}^T w\n",
        "$$\n",
        "\n",
        "where $\\mathbf{1}$ is a vector of ones with the same dimension as $w$.\n",
        "\n",
        "\n"
      ],
      "metadata": {
        "id": "sK4oWgqCnzgc"
      }
    },
    {
      "cell_type": "code",
      "source": [
        "## Enter your solution here\n",
        "X = Training_data_with_dummy\n",
        "y = labels\n",
        "\n",
        "w = np.linalg.inv(X.T @ X) @ X.T @ y\n",
        "sum_of_weights = np.sum(w)            # Calculate w_0 + w_1 + ... + w_d\n",
        "\n",
        "print(f\"The sum of the weights w_0 + w_1 + ... + w_d is: {sum_of_weights:.3f}\")"
      ],
      "metadata": {
        "id": "JORYNRkdOo55",
        "colab": {
          "base_uri": "https://localhost:8080/"
        },
        "outputId": "2dc41845-21b6-4dd4-e599-9d93ed6d518e"
      },
      "execution_count": 7,
      "outputs": [
        {
          "output_type": "stream",
          "name": "stdout",
          "text": [
            "The sum of the weights w_0 + w_1 + ... + w_d is: 20.525\n"
          ]
        }
      ]
    },
    {
      "cell_type": "markdown",
      "source": [
        "## Question 5\n",
        "Find the average of the predictions made by the above model.\n",
        "\n",
        "---\n",
        "\n",
        "We first need to compute the predictions for all the training examples using the model $h_w(x) = X^T w$. Then, we can calculate the average of these predictions.\n",
        "\n"
      ],
      "metadata": {
        "id": "uBUor5KWp3_Q"
      }
    },
    {
      "cell_type": "code",
      "source": [
        "## Enter your solution here\n",
        "predictions = X @ w\n",
        "np.mean(predictions)"
      ],
      "metadata": {
        "id": "O2vF1aE2Rxfs",
        "colab": {
          "base_uri": "https://localhost:8080/"
        },
        "outputId": "3429e2c7-231b-4f25-c621-e16649e1a6e6"
      },
      "execution_count": 8,
      "outputs": [
        {
          "output_type": "execute_result",
          "data": {
            "text/plain": [
              "22.309158415841498"
            ]
          },
          "metadata": {},
          "execution_count": 8
        }
      ]
    },
    {
      "cell_type": "markdown",
      "source": [
        "## Question 6\n",
        "\n",
        "Find the loss for the training data points using the above model. Consider the loss to be defined as\n",
        "\n",
        "$$ \\sqrt{\\dfrac{1}{n}\\sum\\limits_{i=1}^{n} (y_i- \\hat{y}_i)^2}\n",
        "$$\n",
        "\n",
        "Where $\\hat{y}_i$ is the prediction for $i^{th}$ data point.\n",
        "\n"
      ],
      "metadata": {
        "id": "FSDbBz7ucm_a"
      }
    },
    {
      "cell_type": "code",
      "source": [
        "## Enter your solution here\n",
        "loss = np.sqrt(np.mean((y - predictions)**2))\n",
        "print(f\"The loss (RMSE) for the training data is: {loss:.3f}\")"
      ],
      "metadata": {
        "id": "F4jRui2VSeDt",
        "colab": {
          "base_uri": "https://localhost:8080/"
        },
        "outputId": "c637a2db-831a-4d81-9e7f-6fffbf531b09"
      },
      "execution_count": 9,
      "outputs": [
        {
          "output_type": "stream",
          "name": "stdout",
          "text": [
            "The loss (RMSE) for the training data is: 4.552\n"
          ]
        }
      ]
    },
    {
      "cell_type": "markdown",
      "source": [
        "## Question 7\n",
        "\n",
        "Find the loss for the test data points using the above model. Consider the loss to be defined as\n",
        "\n",
        "$$ \\sqrt{\\dfrac{1}{n}\\sum\\limits_{i=1}^{n} (y_i- \\hat{y}_i)^2}\n",
        "$$\n",
        "\n",
        "Where $\\hat{y}_i$ is the prediction for $i^{th}$ data point.\n",
        "\n"
      ],
      "metadata": {
        "id": "5eh8cI4PeVEb"
      }
    },
    {
      "cell_type": "code",
      "source": [
        "## Enter your solution here\n",
        "test_predictions = Test_data_with_dummy @ w\n",
        "test_loss = np.sqrt(np.mean((test_labels - test_predictions)**2))\n",
        "print(f\"The loss (RMSE) for the test data is: {test_loss:.3f}\")"
      ],
      "metadata": {
        "id": "vBMCgEIBU6v5",
        "colab": {
          "base_uri": "https://localhost:8080/"
        },
        "outputId": "c191a2a5-8ce8-45da-a373-8550d2366d8b"
      },
      "execution_count": 10,
      "outputs": [
        {
          "output_type": "stream",
          "name": "stdout",
          "text": [
            "The loss (RMSE) for the test data is: 5.328\n"
          ]
        }
      ]
    },
    {
      "cell_type": "markdown",
      "source": [
        "## Question 8\n",
        "Find the weights using the gradient descent. Use a constant learning rate of $\\eta = 10^{-10}$. Initialize the weight vector as zero vector and update the weights for 100 iterations. Enter the sum of all the weights.\n",
        "\n",
        "---\n",
        "### Steps:\n",
        "\n",
        "1. **Define the cost function**: For linear regression, the cost function (mean squared error) is:\n",
        "\n",
        "   $$\n",
        "   J(w) = \\frac{1}{n} \\sum_{i=1}^{n} (y_i - \\hat{y}_i)^2\n",
        "   $$\n",
        "\n",
        "   Where $\\hat{y}_i = x_i^T w$, and $x_i$ is the feature vector for the $i^{th}$ training data point.\n",
        "\n",
        "2. **Gradient of the cost function**: The gradient of the cost function with respect to $w$ is:\n",
        "\n",
        "   $$\n",
        "   \\nabla J(w) = \\frac{2}{n} X^T (Xw - y)\n",
        "   $$\n",
        "\n",
        "   Where $X$ is the feature matrix (with the dummy feature), $y$ is the true label vector, and $w$ is the weight vector.\n",
        "\n",
        "3. **Gradient descent update**: The weights are updated using the gradient descent rule:\n",
        "\n",
        "   $$\n",
        "   w^{(t+1)} = w^{(t)} - \\eta \\cdot \\nabla J(w)\n",
        "   $$\n",
        "\n",
        "   Where $\\eta$ is the learning rate.\n",
        "\n",
        "\n"
      ],
      "metadata": {
        "id": "NkeClcplfJLK"
      }
    },
    {
      "cell_type": "code",
      "source": [
        "## Enter your solution here\n",
        "learning_rate = 10e-10\n",
        "iterations = 100\n",
        "\n",
        "w = np.zeros(Training_data_with_dummy.shape[1])\n",
        "\n",
        "# Perform gradient descent for 100 iterations\n",
        "for i in range(iterations):\n",
        "    predictions = Training_data_with_dummy @ w\n",
        "    gradient = -(2 / Training_data_with_dummy.shape[0]) * Training_data_with_dummy.T @ (labels - predictions)\n",
        "    w = w - learning_rate * gradient              # Update weights\n",
        "\n",
        "# Compute the sum of all the weights\n",
        "sum_of_weights = np.sum(w)\n",
        "\n",
        "print(f\"The sum of all the weights after 100 iterations is: {sum_of_weights:.3f}\")"
      ],
      "metadata": {
        "id": "QbpyGnfgWEqj",
        "colab": {
          "base_uri": "https://localhost:8080/"
        },
        "outputId": "f898661d-e09d-4686-82c2-4b12283046b5"
      },
      "execution_count": 15,
      "outputs": [
        {
          "output_type": "stream",
          "name": "stdout",
          "text": [
            "The sum of all the weights after 100 iterations is: 0.004\n"
          ]
        }
      ]
    },
    {
      "cell_type": "markdown",
      "source": [
        "## Question 9\n",
        "\n",
        "Find the loss for the training data points if the model is learnt using the gradient descent as in question 8. Consider the loss to be defined as\n",
        "\n",
        "$$ \\sqrt{\\dfrac{1}{n}\\sum\\limits_{i=1}^{n} (y_i- \\hat{y}_i)^2}\n",
        "$$\n",
        "\n",
        "Where $\\hat{y}_i$ is the prediction for $i^{th}$ data point.\n",
        "\n"
      ],
      "metadata": {
        "id": "78ApH0oAg96X"
      }
    },
    {
      "cell_type": "code",
      "source": [
        "## Enter your solution here\n",
        "predictions = Training_data_with_dummy @ w\n",
        "np.sqrt(np.mean((predictions - labels)**2 ))"
      ],
      "metadata": {
        "id": "oI1yIf9N8la7",
        "colab": {
          "base_uri": "https://localhost:8080/"
        },
        "outputId": "710cfa0d-0c6d-44fb-b870-66c3862c10ca"
      },
      "execution_count": 16,
      "outputs": [
        {
          "output_type": "execute_result",
          "data": {
            "text/plain": [
              "23.045770142366678"
            ]
          },
          "metadata": {},
          "execution_count": 16
        }
      ]
    },
    {
      "cell_type": "markdown",
      "source": [
        "## Question 10\n",
        "\n",
        "Find the loss for the test data points if the model is learnt using the gradient descent as in question 8. Consider the loss to be defined as\n",
        "\n",
        "$$ \\sqrt{\\dfrac{1}{n}\\sum\\limits_{i=1}^{n} (y_i- \\hat{y}_i)^2}\n",
        "$$\n",
        "\n",
        "Where $\\hat{y}_i$ is the prediction for $i^{th}$ data point.\n",
        "\n"
      ],
      "metadata": {
        "id": "FA7UKT1Y3PXa"
      }
    },
    {
      "cell_type": "code",
      "source": [
        "## Enter your solution here\n",
        "test_predictions = Test_data_with_dummy @ w\n",
        "np.sqrt(np.mean((test_predictions - test_labels)**2 ))"
      ],
      "metadata": {
        "id": "tevVzIIj3SZj",
        "colab": {
          "base_uri": "https://localhost:8080/"
        },
        "outputId": "bd247c48-2657-4e26-fbd3-4c9daacd2fd4"
      },
      "execution_count": 17,
      "outputs": [
        {
          "output_type": "execute_result",
          "data": {
            "text/plain": [
              "23.85950668842472"
            ]
          },
          "metadata": {},
          "execution_count": 17
        }
      ]
    },
    {
      "cell_type": "markdown",
      "source": [
        "## Question 11\n",
        "Find the weights using the stochastic gradient descent. Use a constant learning rate of $\\eta = 10^{-8}$. Initialize the weight vector as zero vector and update the weights for 1000 iterations. . Take the batch size of $⌈\\text{number of samples}/5⌉ $. For sampling the batch examples in $ith$ iteration, set seed at $i$. The final weight is the last updated weight. Do not take the avearge of weights updated in all the iterations. Enter the sum of all the weights.\n",
        "\n",
        "---\n",
        "The weight update is performed using the gradient of the squared error loss function. The gradient for each parameter $w_j$ is calculated as:\n",
        "$$\n",
        "\\nabla_{w_j}\\text{Loss} = -\\frac{2}{\\text{batch size}} \\sum_{i=1}^{\\text{batch size}}(y_i - \\hat{y_i})x_{ij}\n",
        "$$\n",
        "\n"
      ],
      "metadata": {
        "id": "-AoLsBKc31Ul"
      }
    },
    {
      "cell_type": "code",
      "source": [
        "## Enter your solution here\n",
        "eta = 10**-8  # Learning rate\n",
        "n = Training_data_with_dummy.shape[0]  # Number of samples\n",
        "d = Training_data_with_dummy.shape[1]  # Number of features (including dummy feature)\n",
        "batch_size = int(np.ceil(n / 5))  # Batch size\n",
        "w = np.zeros(d)  # Initialize the weight vector as zero (shape: (d,))\n",
        "\n",
        "# Stochastic Gradient Descent (SGD)\n",
        "for i in range(1000):  # 1000 iterations\n",
        "    np.random.seed(i)  # Set the seed for reproducibility\n",
        "    indices = np.random.choice(n, size=batch_size, replace=False)  # Randomly sample a batch\n",
        "    X_batch = Training_data_with_dummy[indices]  # Batch of data points\n",
        "    y_batch = labels[indices]  # Corresponding labels\n",
        "\n",
        "    # Compute the predictions for the batch\n",
        "    predictions = np.dot(X_batch, w)\n",
        "\n",
        "    # Compute the gradient of the loss function (squared error)\n",
        "    gradient = -2 * np.dot(X_batch.T, (y_batch - predictions)) / batch_size\n",
        "\n",
        "    # Update weights\n",
        "    w -= eta * gradient\n",
        "\n",
        "# After 1000 iterations, compute the sum of the weights\n",
        "weight_sum = np.sum(w)\n",
        "\n",
        "print(f\"Sum of the weights after 1000 iterations: {weight_sum:.4f}\")"
      ],
      "metadata": {
        "id": "R4odop9yF9VY",
        "colab": {
          "base_uri": "https://localhost:8080/"
        },
        "outputId": "85579394-dd6b-45ec-abd5-5dd0a6d5e997"
      },
      "execution_count": 18,
      "outputs": [
        {
          "output_type": "stream",
          "name": "stdout",
          "text": [
            "Sum of the weights after 1000 iterations: 0.0652\n"
          ]
        }
      ]
    },
    {
      "cell_type": "markdown",
      "source": [
        "## Question 12\n",
        "\n",
        "Find the loss for the training data points if the model is learnt using the stochastic gradient descent as in question 11. Consider the loss to be defined as\n",
        "\n",
        "$$ \\sqrt{\\dfrac{1}{n}\\sum\\limits_{i=1}^{n} (y_i- \\hat{y}_i)^2}\n",
        "$$\n",
        "\n",
        "Where $\\hat{y}_i$ is the prediction for $i^{th}$ data point.\n",
        "\n"
      ],
      "metadata": {
        "id": "yPzJLciH4NrV"
      }
    },
    {
      "cell_type": "code",
      "source": [
        "## Enter your solution here\n",
        "predictions = Training_data_with_dummy @ w\n",
        "np.sqrt(np.mean((predictions - labels)**2 ))"
      ],
      "metadata": {
        "id": "w9usLAPeLNkt",
        "colab": {
          "base_uri": "https://localhost:8080/"
        },
        "outputId": "159352c8-4461-4e09-f32f-f818feae2f8d"
      },
      "execution_count": 19,
      "outputs": [
        {
          "output_type": "execute_result",
          "data": {
            "text/plain": [
              "10.215826867450467"
            ]
          },
          "metadata": {},
          "execution_count": 19
        }
      ]
    },
    {
      "cell_type": "markdown",
      "source": [
        "## Question 13\n",
        "\n",
        "Find the loss for the test data points if the model is learnt using the stochastic gradient descent as in question 11. Consider the loss to be defined as\n",
        "\n",
        "$$ \\sqrt{\\dfrac{1}{n}\\sum\\limits_{i=1}^{n} (y_i- \\hat{y}_i)^2}\n",
        "$$\n",
        "\n",
        "Where $\\hat{y}_i$ is the prediction for $i^{th}$ data point.\n"
      ],
      "metadata": {
        "id": "rfeamQM94x_N"
      }
    },
    {
      "cell_type": "code",
      "source": [
        "## Enter your solution here\n",
        "test_predictions = Test_data_with_dummy @ w\n",
        "np.sqrt(np.mean((test_predictions - test_labels)**2 ))"
      ],
      "metadata": {
        "id": "oF1xpNH845iH",
        "colab": {
          "base_uri": "https://localhost:8080/"
        },
        "outputId": "77f8d391-c1e1-4bfc-a247-84438057a6e9"
      },
      "execution_count": 20,
      "outputs": [
        {
          "output_type": "execute_result",
          "data": {
            "text/plain": [
              "9.9055652209872"
            ]
          },
          "metadata": {},
          "execution_count": 20
        }
      ]
    },
    {
      "cell_type": "markdown",
      "source": [
        "# Section 2:\n",
        "\n",
        "**Kernel Regression**"
      ],
      "metadata": {
        "id": "muMOKLvY5D9O"
      }
    },
    {
      "cell_type": "markdown",
      "source": [
        "We will generate the synthetic dataset for the kernel regression problem. Run the following cell to get the following variables:\n",
        "\n",
        "`X` = Training data matrix of shape $(n, d)$. In the given dataset $d = 1$.\n",
        "\n",
        "`y` = label vector corresponding to the training dataset"
      ],
      "metadata": {
        "id": "pDAKRJua6rCU"
      }
    },
    {
      "cell_type": "code",
      "source": [
        "rng = np.random.default_rng(seed = 101)\n",
        "X = np.arange(-2, 2, 0.01).reshape(-1, 1)\n",
        "y = X**3 + rng.normal(0, 1, X.shape[0]).reshape(-1, 1)"
      ],
      "metadata": {
        "id": "_WgICXZSnra0"
      },
      "execution_count": 21,
      "outputs": []
    },
    {
      "cell_type": "markdown",
      "source": [
        "## Question 14\n",
        "\n",
        "Plot the scatter plot between feature and the labels.\n",
        "\n"
      ],
      "metadata": {
        "id": "y_-9lyPm8aaj"
      }
    },
    {
      "cell_type": "code",
      "source": [
        "## Enter your solution here\n",
        "plt.scatter(X, y, color='maroon', label='Data points', s=7)\n",
        "plt.xlabel('Feature (X)')\n",
        "plt.ylabel('Label (y)')\n",
        "plt.title('Scatter plot between feature and labels')\n",
        "plt.legend()\n",
        "plt.show()"
      ],
      "metadata": {
        "id": "B12Nc2Sv80_s",
        "colab": {
          "base_uri": "https://localhost:8080/",
          "height": 472
        },
        "outputId": "cd7a1e98-d418-47f9-9083-cfb7fa49fd07"
      },
      "execution_count": 24,
      "outputs": [
        {
          "output_type": "display_data",
          "data": {
            "text/plain": [
              "<Figure size 640x480 with 1 Axes>"
            ],
            "image/png": "[encoded data removed]"
          },
          "metadata": {}
        }
      ]
    },
    {
      "cell_type": "markdown",
      "source": [
        "## Question 15\n",
        "How many examples are there in the training dataset?\n",
        "\n"
      ],
      "metadata": {
        "id": "E3e-gQHg8z8x"
      }
    },
    {
      "cell_type": "code",
      "source": [
        "## Enter your solution here\n",
        "X.shape[0]"
      ],
      "metadata": {
        "id": "xGeqMCV57ZJB",
        "colab": {
          "base_uri": "https://localhost:8080/"
        },
        "outputId": "902c8c0e-0977-4b7a-f9c2-7d9c6ff3884f"
      },
      "execution_count": 26,
      "outputs": [
        {
          "output_type": "execute_result",
          "data": {
            "text/plain": [
              "400"
            ]
          },
          "metadata": {},
          "execution_count": 26
        }
      ]
    },
    {
      "cell_type": "markdown",
      "source": [
        "## Task:\n",
        "\n",
        "Add the dummy feature in the feature matrix `X`and reshape it to the shape $(d, n)$."
      ],
      "metadata": {
        "id": "uPifeX-K9zuU"
      }
    },
    {
      "cell_type": "code",
      "source": [
        "## Enter your solution here\n",
        "dummy_feature = np.ones((X.shape[0], 1))  # Create a column of ones\n",
        "X_with_dummy = np.hstack((dummy_feature, X))  # Add the dummy feature to X\n",
        "X_with_dummy = X_with_dummy.T  # Reshape the matrix to (d, n)\n",
        "\n",
        "print(\"X_with_dummy shape:\", X_with_dummy.shape)"
      ],
      "metadata": {
        "id": "yduBBJQgujfE",
        "colab": {
          "base_uri": "https://localhost:8080/"
        },
        "outputId": "8388d8b2-6093-4ef7-cd63-63884bf69b41"
      },
      "execution_count": 27,
      "outputs": [
        {
          "output_type": "stream",
          "name": "stdout",
          "text": [
            "X_with_dummy shape: (2, 400)\n"
          ]
        }
      ]
    },
    {
      "cell_type": "markdown",
      "source": [
        "## Question 16\n",
        "\n",
        "Our task is to apply the kernel regression with polynomial kernel of degree 3. We know that weight vector can be written as\n",
        "\n",
        "$$w = \\phi(\\mathbb{x})\\alpha$$\n",
        "\n",
        "let us call the vector $\\alpha$ as coefficient vector. Find the sum of elements in the coefficient vector.\n",
        "\n",
        "---\n",
        "Formula for solving for the coefficient vector $\\alpha$:\n",
        " $$\n",
        " \\alpha = (K + \\lambda I)^{-1} y\n",
        " $$\n",
        "\n"
      ],
      "metadata": {
        "id": "HQtBOQua_HQB"
      }
    },
    {
      "cell_type": "code",
      "source": [
        "## Enter your solution here\n",
        "lambda_reg = 1e-8           # Regularization parameter (small value)\n",
        "def polynomial_kernel(x_i, x_j, degree=3):\n",
        "    return (np.dot(x_i, x_j) + 1)**degree\n",
        "\n",
        "n = X.shape[0]  # Number of samples\n",
        "K = np.zeros((n, n))  # Initialize kernel matrix\n",
        "\n",
        "# Compute the kernel matrix using the polynomial kernel\n",
        "for i in range(n):\n",
        "    for j in range(n):\n",
        "        K[i, j] = polynomial_kernel(X[i], X[j])\n",
        "\n",
        "# Compute the coefficient vector alpha using kernel regression\n",
        "alpha = np.linalg.inv(K + lambda_reg * np.eye(n)).dot(y)\n",
        "\n",
        "sum_alpha = np.sum(alpha)         # Calculate the sum\n",
        "print(\"Sum of elements in the coefficient vector:\", sum_alpha)"
      ],
      "metadata": {
        "id": "CVMDkgkNqCBG",
        "colab": {
          "base_uri": "https://localhost:8080/"
        },
        "outputId": "70924630-2529-4453-cd2e-c7aaa15e188a"
      },
      "execution_count": 28,
      "outputs": [
        {
          "output_type": "stream",
          "name": "stdout",
          "text": [
            "Sum of elements in the coefficient vector: -0.1424960494041443\n"
          ]
        }
      ]
    },
    {
      "cell_type": "markdown",
      "source": [
        "## Question 17\n",
        "\n",
        "Find the sum of the predictions made by the kernel regression model of degree 3.\n",
        "\n",
        "---\n",
        "Predictions for each data point by the kernel regressor will be given by:\n",
        "$$\n",
        "\\hat{y}(x_i) = \\sum_{j=1}^{n}K(x_i, x_j) \\alpha_j\n",
        "$$\n",
        "\n"
      ],
      "metadata": {
        "id": "Xq0YtsGjA7IK"
      }
    },
    {
      "cell_type": "code",
      "source": [
        "## Enter your solution here\n",
        "# Computing the predictions for all training data points\n",
        "predictions = np.zeros(n)\n",
        "for i in range(n):\n",
        "    predictions[i] = np.sum(K[i, :] * alpha[:, 0])\n",
        "\n",
        "# Compute the sum of the predictions\n",
        "sum_predictions = np.sum(predictions)\n",
        "\n",
        "print(\"Sum of predictions made by the kernel regression model:\", sum_predictions)"
      ],
      "metadata": {
        "id": "YAqln4GZ05dg",
        "colab": {
          "base_uri": "https://localhost:8080/"
        },
        "outputId": "8ca18933-e1e5-4dde-e556-ba360a252e9f"
      },
      "execution_count": 29,
      "outputs": [
        {
          "output_type": "stream",
          "name": "stdout",
          "text": [
            "Sum of predictions made by the kernel regression model: -25.690514013171196\n"
          ]
        }
      ]
    },
    {
      "cell_type": "markdown",
      "source": [
        "## Question 18\n",
        "\n",
        "Find the loss for the training data points. Consider the loss to be defined as\n",
        "\n",
        "$$ \\sqrt{\\dfrac{1}{n}\\sum\\limits_{i=1}^{n} (y_i- \\hat{y}_i)^2}\n",
        "$$\n",
        "\n",
        "Where $\\hat{y}_i$ is the prediction for $i^{th}$ data point.\n",
        "\n"
      ],
      "metadata": {
        "id": "pXRpijIeCcSr"
      }
    },
    {
      "cell_type": "code",
      "source": [
        "## Enter your solution here\n",
        "np.sqrt(np.mean(predictions - y)**2)"
      ],
      "metadata": {
        "id": "8_i2Th-g1ToW",
        "colab": {
          "base_uri": "https://localhost:8080/"
        },
        "outputId": "6dd87842-8b56-4ea5-e46e-50adfd5edc13"
      },
      "execution_count": 30,
      "outputs": [
        {
          "output_type": "execute_result",
          "data": {
            "text/plain": [
              "9.022732699440894e-06"
            ]
          },
          "metadata": {},
          "execution_count": 30
        }
      ]
    },
    {
      "cell_type": "markdown",
      "source": [
        "### Test dataset\n",
        "\n",
        "run the following cell to get the test data matrix `X_test` and corresponding label vector `y_test`."
      ],
      "metadata": {
        "id": "nGpw3zpI65rm"
      }
    },
    {
      "cell_type": "code",
      "source": [
        "rng = np.random.default_rng(seed = 102)\n",
        "Xnew = np.arange(-2, 2, 0.03)\n",
        "ynew = Xnew**3 + rng.normal(0, 1.5, Xnew.shape[0])\n",
        "X_test = np.column_stack((np.ones(Xnew.shape[0]), Xnew.reshape(-1, 1))).T\n",
        "y_test = ynew.reshape(-1, 1)\n",
        "plt.scatter(Xnew, ynew, color='maroon', s=40, label='Data Points')\n",
        "plt.legend()\n",
        "plt.show()"
      ],
      "metadata": {
        "colab": {
          "base_uri": "https://localhost:8080/",
          "height": 430
        },
        "id": "fLNDYH_B67kN",
        "outputId": "01625b31-23a3-4336-ea37-ab07a382ebb6"
      },
      "execution_count": 34,
      "outputs": [
        {
          "output_type": "display_data",
          "data": {
            "text/plain": [
              "<Figure size 640x480 with 1 Axes>"
            ],
            "image/png": "[encoded data removed]"
          },
          "metadata": {}
        }
      ]
    },
    {
      "cell_type": "markdown",
      "source": [
        "## Question 19\n",
        "\n",
        "Find the loss for the test data points. Consider the loss to be defined as\n",
        "\n",
        "$$ \\sqrt{\\dfrac{1}{n}\\sum\\limits_{i=1}^{n} (y_i- \\hat{y}_i)^2}\n",
        "$$\n",
        "\n",
        "Where $\\hat{y}_i$ is the prediction for $i^{th}$ data point.\n",
        "\n"
      ],
      "metadata": {
        "id": "5vlunIBzDI1_"
      }
    },
    {
      "cell_type": "code",
      "source": [
        "## Enter your solution here\n",
        "test_predictions = np.zeros(X_test.shape[0])\n",
        "for i in range(X_test.shape[0]):\n",
        "    test_predictions[i] = np.sum(K[i, :] * alpha[:, 0])\n",
        "\n",
        "# Loss on test points\n",
        "np.sqrt(np.mean((y_test - test_predictions)**2))"
      ],
      "metadata": {
        "id": "_RxSPslY7joK",
        "colab": {
          "base_uri": "https://localhost:8080/"
        },
        "outputId": "b7006329-74fe-4fb5-9e2c-7ec2a70fb3db"
      },
      "execution_count": 36,
      "outputs": [
        {
          "output_type": "execute_result",
          "data": {
            "text/plain": [
              "8.417160394150372"
            ]
          },
          "metadata": {},
          "execution_count": 36
        }
      ]
    }
  ]
}