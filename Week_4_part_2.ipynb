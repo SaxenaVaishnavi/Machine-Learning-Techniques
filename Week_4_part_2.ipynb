{
  "nbformat": 4,
  "nbformat_minor": 0,
  "metadata": {
    "colab": {
      "provenance": [],
      "include_colab_link": true
    },
    "kernelspec": {
      "name": "python3",
      "display_name": "Python 3"
    },
    "language_info": {
      "name": "python"
    }
  },
  "cells": [
    {
      "cell_type": "markdown",
      "metadata": {
        "id": "view-in-github",
        "colab_type": "text"
      },
      "source": [
        "<a href=\"https://colab.research.google.com/github/SaxenaVaishnavi/Machine-Learning-Techniques/blob/main/Week_4_part_2.ipynb\" target=\"_parent\"><img src=\"https://colab.research.google.com/assets/colab-badge.svg\" alt=\"Open In Colab\"/></a>"
      ]
    },
    {
      "cell_type": "markdown",
      "source": [
        "# Week-4: Part-2\n"
      ],
      "metadata": {
        "id": "53TcQvUOjGxr"
      }
    },
    {
      "cell_type": "code",
      "source": [
        "import numpy as np\n",
        "import matplotlib.pyplot as plt\n",
        "# Set size of figure\n",
        "plt.rcParams['figure.figsize'] = [8, 8]\n",
        "# Set size of font\n",
        "plt.rcParams['font.size'] = 10"
      ],
      "metadata": {
        "id": "FasmVZvHPgMW"
      },
      "execution_count": 8,
      "outputs": []
    },
    {
      "cell_type": "markdown",
      "source": [
        "## GMM\n",
        "\n",
        "Now that we know how to sample from simple distributions like the Bernoulli and Gaussian, we shall move to sampling from a GMM. There are two steps here:\n",
        "\n",
        "- Pick a mixture $k$ from $K$ mixtures based on the categorical distribution governing it\n",
        "- Sample a point from the $k^{th}$ Gaussian"
      ],
      "metadata": {
        "id": "7A9Gri4ZP1oK"
      }
    },
    {
      "cell_type": "markdown",
      "source": [
        "## Problem-1\n",
        "\n",
        "Consider a GMM with $K = 3$. The mixture probabilities are given below. It is easier to work with zero-indexing, hence we will index our mixtures starting from $0$:\n",
        "\n",
        "$$\n",
        "\\pi_0 = 0.3\\\\\n",
        "\\pi_1 = 0.5\\\\\n",
        "\\pi_2 = 0.2\n",
        "$$\n",
        "\n",
        "Perform step-1 of the sampling process by choosing one of the three mixtures based on the above distribution. Call this value $k$. Use the cell given below for all your computation. Do not change the seed value. Enter $k$ as your answer."
      ],
      "metadata": {
        "id": "1GlVAG9-8qFY"
      }
    },
    {
      "cell_type": "code",
      "source": [
        "### RNG ###\n",
        "rng = np.random.default_rng(seed = 1001)\n",
        "\n",
        "### Solution ###\n",
        "k = rng.choice([0, 1, 2], p=[0.3, 0.5, 0.2])\n",
        "print(k)"
      ],
      "metadata": {
        "id": "aQqjseA3RYkB",
        "colab": {
          "base_uri": "https://localhost:8080/"
        },
        "outputId": "9b1cf775-f812-4862-cb09-4d3fef3908d7"
      },
      "execution_count": 9,
      "outputs": [
        {
          "output_type": "stream",
          "name": "stdout",
          "text": [
            "1\n"
          ]
        }
      ]
    },
    {
      "cell_type": "markdown",
      "source": [
        "## Problem-2\n",
        "\n",
        "Now we move to step-2 of the sampling process. Sample a point from mixture $k$ (obtained from the previous question). The means and variances of the mixtures are as follows:\n",
        "\n",
        "$$\n",
        "\\mu_1 = -4, \\sigma_1^2 = 2\\\\\n",
        "\\mu_2 = 0, \\sigma_2^2 = 1\\\\\n",
        "\\mu_3 = 5, \\sigma_3^2 = 3\n",
        "$$\n",
        "\n",
        "\n",
        "Use the cell given below for all your computation. Enter the sampled point correct to three decimal places."
      ],
      "metadata": {
        "id": "4hd29e0n9mar"
      }
    },
    {
      "cell_type": "code",
      "source": [
        "### RNG ###\n",
        "rng = np.random.default_rng(seed = 1001)\n",
        "\n",
        "### Solution ###\n",
        "means = [-4, 0, 5]\n",
        "variances = [2, 1, 3]\n",
        "\n",
        "mean = means[k]\n",
        "variance = variances[k]\n",
        "\n",
        "point = rng.normal(mean, np.sqrt(variance))\n",
        "print(point)"
      ],
      "metadata": {
        "id": "D0TUgnKG91t2",
        "colab": {
          "base_uri": "https://localhost:8080/"
        },
        "outputId": "e16af3a4-2f32-44aa-a19d-6ab7f7a4dc08"
      },
      "execution_count": 10,
      "outputs": [
        {
          "output_type": "stream",
          "name": "stdout",
          "text": [
            "0.9323224351204542\n"
          ]
        }
      ]
    },
    {
      "cell_type": "markdown",
      "source": [
        "## Problem-3\n",
        "\n",
        "Now that we have sampled one point, we are ready to do more. Sample $100,000$ points from the GMM. Generate each point step by step. Store the samples in a NumPy array `X` of shape $(100,000, )$. `X[i]` should hold the value of the $i^{th}$ point generated from the GMM.  Use the cell below for all your computation. Enter the mean of `X` as your answer correct to three decimal places."
      ],
      "metadata": {
        "id": "7FnbGy4p-jeK"
      }
    },
    {
      "cell_type": "code",
      "source": [
        "### RNG ###\n",
        "rng = np.random.default_rng(seed = 1001)\n",
        "\n",
        "### Solution ###\n",
        "probabilities = [0.3, 0.5, 0.2]\n",
        "means = [-4, 0, 5]\n",
        "variances = [2, 1, 3]\n",
        "X = np.zeros(100000)\n",
        "\n",
        "for i in range(100000):\n",
        "  k = rng.choice([0, 1, 2], p=probabilities) # Step - 1: mixture selection\n",
        "  X[i] = rng.normal(means[k], np.sqrt(variances[k]))  # Step - 2: sampling a data point\n",
        "\n",
        "print(np.mean(X))"
      ],
      "metadata": {
        "id": "XA8gv2jq-rTC",
        "colab": {
          "base_uri": "https://localhost:8080/"
        },
        "outputId": "b85b218f-c62c-4eb9-e420-9e8c3226c2a2"
      },
      "execution_count": 11,
      "outputs": [
        {
          "output_type": "stream",
          "name": "stdout",
          "text": [
            "-0.1930762698848285\n"
          ]
        }
      ]
    },
    {
      "cell_type": "markdown",
      "source": [
        "## Problem-4\n",
        "\n",
        "Plot a histogram of the dataset. Play around with the `bins` parameter of the `plt.hist` method. We will be using this dataset `X` all through the next section of the colab."
      ],
      "metadata": {
        "id": "2heXmKhI_uXb"
      }
    },
    {
      "cell_type": "code",
      "source": [
        "### Solution ###\n",
        "plt.figure(figsize=(6,5))\n",
        "plt.hist(X, bins=1000, color='maroon', alpha=0.7)\n",
        "plt.title('Histogram of GMM Sampled Dataset')\n",
        "plt.xlabel('Value')\n",
        "plt.ylabel('Frequency')\n",
        "plt.grid(alpha=0.3)\n",
        "plt.show()"
      ],
      "metadata": {
        "id": "lpor62HP_xPF",
        "colab": {
          "base_uri": "https://localhost:8080/",
          "height": 487
        },
        "outputId": "e8cef7ca-334b-4859-bc55-834fd9c24831"
      },
      "execution_count": 12,
      "outputs": [
        {
          "output_type": "display_data",
          "data": {
            "text/plain": [
              "<Figure size 600x500 with 1 Axes>"
            ],
            "image/png": "[encoded data removed]"
          },
          "metadata": {}
        }
      ]
    },
    {
      "cell_type": "markdown",
      "source": [
        "## EM algorithm\n",
        "\n",
        "It is time to start coding up the EM algorithm from scratch. We will break this down into five stages:\n",
        "\n",
        "- Initialization\n",
        "- E-step\n",
        "- M-step\n",
        "- Stopping criterion\n",
        "- Algorithm\n",
        "\n",
        "For each of the first four stages, we will write functions that are related to that stage. All these functions will be eventually used in the code for the EM algorithm. This is a modular approach to writing the code. We have identified four blocks or stages. We can independently work on these four blocks and finally combine them. If something goes wrong, we can quickly localize the problem to one of these four blocks.\n"
      ],
      "metadata": {
        "id": "t1VFwTY0ArhB"
      }
    },
    {
      "cell_type": "markdown",
      "source": [
        "## Problem-5\n",
        "\n",
        "Write a function `init` that initializes the parameters of the GMM and returns `theta_0`, a NumPy array of shape $(3K, )$. The first $K$ elements of `theta_0` ($\\boldsymbol{\\theta}^{(0)}$) represents the means of the three mixtures, the next $K$ represent the variances and the last $K$ represent the mixture probabilities.\n",
        "\n",
        "The exact values to be used are as follows:\n",
        "\n",
        "- $\\mu_0 = 1, \\mu_1 = 2, \\mu_2 = 3$\n",
        "- $\\sigma_0^2 = \\sigma_1^2 = \\sigma_2^2 = 1$\n",
        "- $\\pi_0 = \\pi_1 = \\pi_2 = 1/3$\n",
        "\n",
        "Enter $||\\boldsymbol{\\theta}^{(0)}||$ as your answer correct to two decimal places. Keep this variable `theta_0` as it will be used in subsequent problems."
      ],
      "metadata": {
        "id": "YuhQSnp0BChl"
      }
    },
    {
      "cell_type": "code",
      "source": [
        "### Solution ###\n",
        "def init():\n",
        "  means = [1, 2, 3]\n",
        "  variances = [1, 1, 1]\n",
        "  probabilities = [0.33, 0.33, 0.33]\n",
        "\n",
        "  theta_0 = np.concatenate([means, variances, probabilities])\n",
        "  return theta_0\n",
        "\n",
        "theta_0 = init()\n",
        "norm_theta_0 = np.linalg.norm(theta_0)\n",
        "print(norm_theta_0)"
      ],
      "metadata": {
        "id": "HKe2dspvIUgE",
        "colab": {
          "base_uri": "https://localhost:8080/"
        },
        "outputId": "54f01fcb-feab-4f06-dae0-080bcd99a24b"
      },
      "execution_count": 14,
      "outputs": [
        {
          "output_type": "stream",
          "name": "stdout",
          "text": [
            "4.16253528513573\n"
          ]
        }
      ]
    },
    {
      "cell_type": "markdown",
      "source": [
        "## Problem-6\n",
        "\n",
        "Write a function `estep` that accepts `theta` and `X` as arguments. It should perform the E-step and return an array `lamb` of shape `(n, K)`. The element `lamb[i][k]` is equal to $\\lambda_k^{i}$. For the purposes of evaluation, run the function on `theta_0` and `X`. Call the returned value `lamb_1`.  Compute the sum of the zeroth column of the matrix `lamb_1` and enter that as your answer correct to two decimal places. Keep this variable `lamb_1` as it will be used in subsequent problems.\n",
        "\n",
        "\n",
        "**Aside**: We prefer the variable name `lamb` over `lambda` for a reason. Can you guess why?\n",
        "\n",
        "---\n",
        "\n",
        "$$\n",
        "\\lambda_k^{i} = \\frac{\\pi_k \\mathcal{N}(x_i|\\mu_k, \\sigma_k^2)}{\\sum_{j=0}^{K-1} \\pi_j \\mathcal{N}(x_j|\\mu_j, \\sigma_j^2)}\n",
        "$$\n",
        "\n",
        "### Intuition -\n",
        "- $\\lambda_k^{i}$ represents the probability that the data point $x_i$ belongs to the $k$-th Gaussian component\n",
        "- The numerator $\\mathcal{N}(x_i |\\mu_i, \\sigma_i^2)$ is the weighted likelihood of the data point $x_i$ under the $k$-th Gaussian.\n",
        "\n",
        "$$\n",
        "\\mathcal{N}(x_i | \\mu_k, \\sigma_k^2) = \\frac{1}{\\sqrt{2 \\pi}\\sigma_k}{\\exp\\left(\\frac{-(x_i - \\mu_k)^2}{2 \\sigma_k^2} \\right)}\n",
        "$$\n",
        "\n",
        "- The denominator is the total likelihood of the data point $x_i$ under all Gaussian components in the mixture, ensuring that the responsibilities sum to 1.\n"
      ],
      "metadata": {
        "id": "EgsmXOKYJ76X"
      }
    },
    {
      "cell_type": "code",
      "source": [
        "### Solution ###\n",
        "def gaussian_pdf(x, mu, sigma):\n",
        "    return (1 / (np.sqrt(2 * np.pi) * sigma)) * np.exp(-0.5 * ((x - mu) / sigma) ** 2)\n",
        "\n",
        "def estep(theta, X):\n",
        "  K = len(theta) // 3\n",
        "  means = theta[:K]\n",
        "  variances = theta[K:2*K]\n",
        "  probabilities = theta[2*K:]\n",
        "  n = X.shape[0]                # Number of data points\n",
        "  lamb = np.zeros((n, K))       # Responsibility matrix\n",
        "\n",
        "  for i in range(n):\n",
        "    denominator = 0\n",
        "    for k in range(K):\n",
        "        denominator += probabilities[k] * gaussian_pdf(X[i], means[k], np.sqrt(variances[k]))\n",
        "\n",
        "    for k in range(K):\n",
        "        numerator = probabilities[k] * gaussian_pdf(X[i], means[k], np.sqrt(variances[k]))\n",
        "        lamb[i, k] = numerator / denominator\n",
        "\n",
        "  return lamb\n",
        "\n",
        "lamb_1 = estep(theta_0, X)\n",
        "np.sum(lamb_1[:, 0])"
      ],
      "metadata": {
        "id": "kKH7zNZ6IJsb",
        "colab": {
          "base_uri": "https://localhost:8080/"
        },
        "outputId": "eea0aa3e-996e-47bc-8daa-c51a47068ff7"
      },
      "execution_count": 15,
      "outputs": [
        {
          "output_type": "execute_result",
          "data": {
            "text/plain": [
              "68226.19649822346"
            ]
          },
          "metadata": {},
          "execution_count": 15
        }
      ]
    },
    {
      "cell_type": "markdown",
      "source": [
        "## Problem-7\n",
        "\n",
        "Write a function `mstep` that accepts `lamb` and `X` as arguments. It should perform the M-step and return a NumPy array `theta`, the updated parameters, namely. We follow the same convention for storing the parameters as was done during the init step. For the purposes of evaluation, compute the value of the function for `lamb_1` and `X`. Call the returned value `theta_1` ($\\boldsymbol{\\theta}^{(1)}$). Enter $||\\boldsymbol{\\theta}^{(1)}||$  as your answer correct to two decimal places.\n",
        "\n",
        "---\n",
        "\n",
        "### Formulae\n",
        "1. $$\n",
        "      \\mu_k = \\frac{\\sum_{i=0}^{n-1}\\lambda_k^i x_i}{\\sum_{i=0}^{n-1}\\lambda_k^i}\n",
        "   $$\n",
        "\n",
        "2. $$\n",
        "      \\sigma_k^2 = \\frac{\\sum_{i=0}^{n-1}\\lambda_k^i(x_i - \\mu_k)^2}{\\sum_{i=0}^{n-1}\\lambda_k^i}\n",
        "   $$\n",
        "\n",
        "3. $$\n",
        "      \\pi_k = \\frac{\\sum_{i=0}^{n-1}\\lambda_k^i}{n}\n",
        "   $$"
      ],
      "metadata": {
        "id": "Fqnf831nLAlP"
      }
    },
    {
      "cell_type": "code",
      "source": [
        "### Solution ###\n",
        "def mstep(lamb, X):\n",
        "    n, K = lamb.shape\n",
        "    mu = np.zeros(K)\n",
        "    sigma2 = np.zeros(K)\n",
        "    pi = np.zeros(K)\n",
        "\n",
        "    for k in range(K):\n",
        "        mu[k] = np.sum(lamb[:, k] * X) / np.sum(lamb[:, k])                         # Update means\n",
        "        sigma2[k] = np.sum(lamb[:, k] * (X - mu[k]) ** 2) / np.sum(lamb[:, k])      # Update variances\n",
        "        pi[k] = np.sum(lamb[:, k]) / n                                              # Update mixture probabilities\n",
        "\n",
        "    theta = np.concatenate([mu, sigma2, pi])\n",
        "    return theta\n",
        "\n",
        "theta_1 = mstep(lamb_1, X)\n",
        "theta_1_norm = np.linalg.norm(theta_1)\n",
        "print(f\"||θ(1)|| = {theta_1_norm:.2f}\")"
      ],
      "metadata": {
        "id": "k9FSc2QiITDs",
        "colab": {
          "base_uri": "https://localhost:8080/"
        },
        "outputId": "0949f1aa-fc44-494f-a2f7-92c46df65958"
      },
      "execution_count": 16,
      "outputs": [
        {
          "output_type": "stream",
          "name": "stdout",
          "text": [
            "||θ(1)|| = 8.69\n"
          ]
        }
      ]
    },
    {
      "cell_type": "markdown",
      "source": [
        "## Problem-8\n",
        "\n",
        "Given two vectors $\\boldsymbol{\\theta}^{(t)}$ and $\\boldsymbol{\\theta}^{(t + 1)}$, write a function `distance` that accepts these two vectors as arguments and returns the distance between them:\n",
        "\n",
        "$$\n",
        "||\\boldsymbol{\\theta}^{(t + 1)} - \\boldsymbol{\\theta}^{(t)}||\n",
        "$$\n",
        "\n",
        "For the purposes of evaluation, compute the distance between $\\boldsymbol{\\theta}^{(0)}$ and $\\boldsymbol{\\theta}^{(1)}$ and report your answer correct to two decimal places."
      ],
      "metadata": {
        "id": "0SLzBm4fLRSK"
      }
    },
    {
      "cell_type": "code",
      "source": [
        "### Solution ###\n",
        "def distance(theta_t, theta_t1):\n",
        "    return np.linalg.norm(theta_t1 - theta_t)\n",
        "\n",
        "dist = distance(theta_0, theta_1)\n",
        "print(dist)"
      ],
      "metadata": {
        "id": "f-dyb9_4IVwI",
        "colab": {
          "base_uri": "https://localhost:8080/"
        },
        "outputId": "5e08fced-6416-48b2-ebe6-f983f60d3b77"
      },
      "execution_count": 17,
      "outputs": [
        {
          "output_type": "stream",
          "name": "stdout",
          "text": [
            "6.266761815755878\n"
          ]
        }
      ]
    },
    {
      "cell_type": "markdown",
      "source": [
        "## Problem-9\n",
        "\n",
        "Perform the EM algorithm until convergence. The stopping-criterion is that the distance between the two parameter-vectors should be less than $0.01$.\n",
        "\n",
        "$$\n",
        "||\\boldsymbol{\\theta}^{(t + 1)} - \\boldsymbol{\\theta}^{(t)}|| < 0.01\n",
        "$$\n",
        "\n",
        "\n",
        "Initialize the parameters to $\\boldsymbol{\\theta}^{(0)}$. Find the number of iterations it takes for the algorithm to converge. Enter this as your answer.\n",
        "\n",
        "This is going to take some time. Hold tight!"
      ],
      "metadata": {
        "id": "FFQwFcH6MELs"
      }
    },
    {
      "cell_type": "code",
      "source": [
        "### Solution ###\n",
        "theta_0 = init()\n",
        "theta_t = theta_0\n",
        "t = 0\n",
        "tolerance = 0.01\n",
        "\n",
        "while True:\n",
        "    lamb = estep(theta_t, X)              # Perform E-step\n",
        "    theta_t1 = mstep(lamb, X)             # Perform M-step\n",
        "\n",
        "    dist = distance(theta_t, theta_t1)    # Compute the distance\n",
        "    t += 1\n",
        "\n",
        "    if dist < tolerance:    # Check convergence\n",
        "        break\n",
        "\n",
        "    theta_t = theta_t1      # Update theta\n",
        "\n",
        "print(t)"
      ],
      "metadata": {
        "id": "lqRgxVx2IXMp",
        "colab": {
          "base_uri": "https://localhost:8080/"
        },
        "outputId": "393b6b32-5a28-4d80-99ce-03518f457ea9"
      },
      "execution_count": 19,
      "outputs": [
        {
          "output_type": "stream",
          "name": "stdout",
          "text": [
            "72\n"
          ]
        }
      ]
    },
    {
      "cell_type": "markdown",
      "source": [
        "## Problem-10\n",
        "\n",
        "Let us now verify the correctness of our algorithm. We know the true parameters here:\n",
        "\n",
        "$$\n",
        "\\boldsymbol{\\theta} = \\begin{bmatrix}\n",
        "-4\\\\\n",
        "0\\\\\n",
        "5\\\\\n",
        "2\\\\\n",
        "1\\\\\n",
        "3\\\\\n",
        "0.3\\\\\n",
        "0.5\\\\\n",
        "0.2\n",
        "\\end{bmatrix}\n",
        "$$\n",
        "\n",
        "Let $\\boldsymbol{\\theta}^{*}$ be the parameter at convergence. Compute the distance between this vector and the true parameter vector. Enter your answer correct to two decimal places. The smaller the distance, better our estimate."
      ],
      "metadata": {
        "id": "zB33Rp_4awWp"
      }
    },
    {
      "cell_type": "code",
      "source": [
        "### Solution ###\n",
        "theta_true = np.array([-4, 0, 5, 2, 1, 3, 0.3, 0.5, 0.2])\n",
        "distance_to_true = distance(theta_t, theta_true)\n",
        "print(distance_to_true)"
      ],
      "metadata": {
        "id": "WdfWCxQVbvBy",
        "colab": {
          "base_uri": "https://localhost:8080/"
        },
        "outputId": "fb83f28e-0173-4733-e9cf-f6fb1a8df988"
      },
      "execution_count": 20,
      "outputs": [
        {
          "output_type": "stream",
          "name": "stdout",
          "text": [
            "0.11146156589050893\n"
          ]
        }
      ]
    },
    {
      "cell_type": "markdown",
      "source": [
        "## Problem-11\n",
        "\n",
        "We shall do a hard clustering of the data-points. Use the final `lamb` value obtained and cluster the points using:\n",
        "\n",
        "$$\n",
        "z_i = \\operatorname*{argmax} \\limits_{k} \\lambda_k^{i}\n",
        "$$\n",
        "\n",
        "Let $0$, $1$ and $2$ correspond to the colors red, blue and green respectively. Plot three colored histograms on the same figure, one for each cluster."
      ],
      "metadata": {
        "id": "oD5eJxOBMfN-"
      }
    },
    {
      "cell_type": "code",
      "source": [
        "### Solution ###\n",
        "# Hard clustering\n",
        "z = np.argmax(lamb, axis=1)  # Assign cluster based on maximum λ_ik for each data point\n",
        "\n",
        "# Split data by cluster\n",
        "cluster_0 = X[z == 0]\n",
        "cluster_1 = X[z == 1]\n",
        "cluster_2 = X[z == 2]\n",
        "\n",
        "# Plot histograms\n",
        "plt.figure(figsize=(8, 6))\n",
        "plt.hist(cluster_0, bins=200, alpha = 0.8, color='maroon', label='Cluster 0 (maroon)')\n",
        "plt.hist(cluster_1, bins=200, color='pink', label='Cluster 1 (pink)')\n",
        "plt.hist(cluster_2, bins=200, color='palevioletred', label='Cluster 2 (palevioletred)')\n",
        "\n",
        "# Add labels and legend\n",
        "plt.xlabel('Data Points')\n",
        "plt.ylabel('Frequency')\n",
        "plt.title('Histograms of Clusters')\n",
        "plt.legend()\n",
        "plt.grid(alpha=0.3)\n",
        "plt.show()"
      ],
      "metadata": {
        "id": "NwRMqRTQgWbg",
        "colab": {
          "base_uri": "https://localhost:8080/",
          "height": 564
        },
        "outputId": "800b53d5-c2da-4ed9-c622-c6ea66b6e21b"
      },
      "execution_count": 41,
      "outputs": [
        {
          "output_type": "display_data",
          "data": {
            "text/plain": [
              "<Figure size 800x600 with 1 Axes>"
            ],
            "image/png": "[encoded data removed]"
          },
          "metadata": {}
        }
      ]
    },
    {
      "cell_type": "markdown",
      "source": [
        "## Extras\n",
        "\n",
        "Here are some of the things that can be tried out:\n",
        "\n",
        "- Make the stopping criterion more stringent and see the effect it has on the number of iterations\n",
        "- Change the size of the dataset and study the effect it has on convergence.\n",
        "- Change the initialization and study the effect it has on convergence\n",
        "- Change the number of mixtures and see what happens"
      ],
      "metadata": {
        "id": "mLYpnfPd-aHq"
      }
    }
  ]
}