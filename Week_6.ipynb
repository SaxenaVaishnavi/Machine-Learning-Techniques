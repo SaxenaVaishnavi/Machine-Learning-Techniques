{
  "nbformat": 4,
  "nbformat_minor": 0,
  "metadata": {
    "colab": {
      "provenance": [],
      "include_colab_link": true
    },
    "kernelspec": {
      "name": "python3",
      "display_name": "Python 3"
    },
    "language_info": {
      "name": "python"
    }
  },
  "cells": [
    {
      "cell_type": "markdown",
      "metadata": {
        "id": "view-in-github",
        "colab_type": "text"
      },
      "source": [
        "<a href=\"https://colab.research.google.com/github/SaxenaVaishnavi/Machine-Learning-Techniques/blob/main/Week_6.ipynb\" target=\"_parent\"><img src=\"https://colab.research.google.com/assets/colab-badge.svg\" alt=\"Open In Colab\"/></a>"
      ]
    },
    {
      "cell_type": "code",
      "execution_count": 1,
      "metadata": {
        "id": "3TDibK0Yrxm_"
      },
      "outputs": [],
      "source": [
        "import numpy as np\n",
        "import matplotlib.pyplot as plt"
      ]
    },
    {
      "cell_type": "markdown",
      "source": [
        "# Week-6\n"
      ],
      "metadata": {
        "id": "1TBHlt7hAdN1"
      }
    },
    {
      "cell_type": "markdown",
      "source": [
        "## Dataset\n",
        "\n",
        "Run the cell given below to generate the data-matrix $X$ and target vector $y$. $X$ is of shape $(n, d)$, where $n$ denotes the number of samples and $d$ denotes the number of features. $y$ is of shape $(n,)$. You will be using this dataset for the rest of the assignment.\n",
        "\n",
        "**Do not edit this cell.**"
      ],
      "metadata": {
        "id": "XJKrscLo9qwH"
      }
    },
    {
      "cell_type": "code",
      "source": [
        "from sklearn.datasets import load_diabetes\n",
        "X, y = load_diabetes(return_X_y = True)\n",
        "\n",
        "# set the random seed value to 0\n",
        "np.random.seed(0)"
      ],
      "metadata": {
        "id": "GIygEzr49Xvf"
      },
      "execution_count": 12,
      "outputs": []
    },
    {
      "cell_type": "markdown",
      "source": [
        "## Problem 1\n",
        "How many samples are there in the dataset?\n",
        "\n"
      ],
      "metadata": {
        "id": "VAONMkaU91v7"
      }
    },
    {
      "cell_type": "markdown",
      "source": [
        "## Solution"
      ],
      "metadata": {
        "id": "LnXmn5t-V8Us"
      }
    },
    {
      "cell_type": "code",
      "source": [
        "# Write your solution code here\n",
        "X.shape[0]"
      ],
      "metadata": {
        "id": "U_WEAtwXDqVF",
        "colab": {
          "base_uri": "https://localhost:8080/"
        },
        "outputId": "65d7eb2c-ad33-4bb2-f417-a964a2851093"
      },
      "execution_count": 13,
      "outputs": [
        {
          "output_type": "execute_result",
          "data": {
            "text/plain": [
              "442"
            ]
          },
          "metadata": {},
          "execution_count": 13
        }
      ]
    },
    {
      "cell_type": "markdown",
      "source": [
        "## Problem 2\n",
        "\n",
        "How many features are there in the dataset?\n",
        "\n"
      ],
      "metadata": {
        "id": "ozjMS6e_91y3"
      }
    },
    {
      "cell_type": "markdown",
      "source": [
        "## Solution"
      ],
      "metadata": {
        "id": "xvFvIHN9V_s7"
      }
    },
    {
      "cell_type": "code",
      "source": [
        "# Write your solution code here\n",
        "X.shape[1]"
      ],
      "metadata": {
        "id": "ii_yZn4N-Di8",
        "colab": {
          "base_uri": "https://localhost:8080/"
        },
        "outputId": "56996e67-1fd5-414f-f1a1-de1e35eecb4c"
      },
      "execution_count": 14,
      "outputs": [
        {
          "output_type": "execute_result",
          "data": {
            "text/plain": [
              "10"
            ]
          },
          "metadata": {},
          "execution_count": 14
        }
      ]
    },
    {
      "cell_type": "markdown",
      "source": [
        "## Problem 3\n",
        "Write a function `shuffle_data(X, y)` that returns the shuffled $X$ and $y$.\n",
        "\n",
        "Note that it should shuffle the data pairs $(x_i, y_i)$.\n",
        "\n",
        "What will be the mean of the first 5 values in $y$?\n",
        "\n"
      ],
      "metadata": {
        "id": "HxIZaojUVGIL"
      }
    },
    {
      "cell_type": "code",
      "source": [
        "# Write your solution code here\n",
        "def shuffle_data(X, y):\n",
        "    indices = np.random.permutation(len(y))\n",
        "    return X[indices], y[indices]\n",
        "\n",
        "# Shuffle the data\n",
        "X, y = shuffle_data(X, y)\n",
        "\n",
        "# Compute the mean of the first 5 values in y_shuffled\n",
        "mean_first_5 = np.mean(y[:5])\n",
        "print(\"Mean of the first 5 values in y:\", mean_first_5)"
      ],
      "metadata": {
        "id": "uLGsJyGkdgug",
        "colab": {
          "base_uri": "https://localhost:8080/"
        },
        "outputId": "0103c454-7f3c-4ebe-ea19-5912ef72b7cb"
      },
      "execution_count": 15,
      "outputs": [
        {
          "output_type": "stream",
          "name": "stdout",
          "text": [
            "Mean of the first 5 values in y: 180.4\n"
          ]
        }
      ]
    },
    {
      "cell_type": "markdown",
      "source": [
        "## Problem 4\n",
        "\n",
        "Write a function `train_test_split(X, y, test_size)` that divides the data (X, y) into $X_{train}$, $X_{test}$, $y_{train}$, $y_{test}$ respectively as per test_size which should be a value between 0 and 1.\n",
        "\n",
        "That is, if test_size = $t$, then `int(t*n)` data points should go to test and the remaining data points should go to train.\n",
        "\n",
        "$X_{train}$, $X_{test}$, $y_{train}$, $y_{test}$ should be returned by the function.\n",
        "\n",
        "Set the test_size to be 0.25 and output the sum of all y values settling in $y_{test}$.\n",
        "\n",
        "\n",
        "\n",
        "\n",
        "\n",
        "\n"
      ],
      "metadata": {
        "id": "pfsUsn_8WSXZ"
      }
    },
    {
      "cell_type": "code",
      "source": [
        "# Write your solution code here\n",
        "def train_test_split(X, y, test_size):\n",
        "  n = X.shape[0]\n",
        "  count = int(test_size * n)\n",
        "  X_test = X[:count]\n",
        "  y_test = y[:count]\n",
        "  X_train = X[count:]\n",
        "  y_train = y[count:]\n",
        "\n",
        "  return X_train, X_test, y_train, y_test\n",
        "\n",
        "X_train, X_test, y_train, y_test = train_test_split(X, y, 0.25)\n",
        "y_test.sum()"
      ],
      "metadata": {
        "id": "Y5VZVbT8dg2b",
        "colab": {
          "base_uri": "https://localhost:8080/"
        },
        "outputId": "a89ee4a4-fe89-4f66-d114-2040dab04393"
      },
      "execution_count": 17,
      "outputs": [
        {
          "output_type": "execute_result",
          "data": {
            "text/plain": [
              "16779.0"
            ]
          },
          "metadata": {},
          "execution_count": 17
        }
      ]
    },
    {
      "cell_type": "markdown",
      "source": [
        "## Problem 5\n",
        "\n",
        "What are the shapes of $X_{train}$, $X_{test}$, $y_{train}$, $y_{test}$ respectively?\n",
        "\n"
      ],
      "metadata": {
        "id": "D67g0r9ad8Ea"
      }
    },
    {
      "cell_type": "code",
      "source": [
        "# Write your solution code here\n",
        "print(X_train.shape)\n",
        "print(X_test.shape)\n",
        "print(y_train.shape)\n",
        "print(y_test.shape)"
      ],
      "metadata": {
        "id": "kTPAakKblF7q",
        "colab": {
          "base_uri": "https://localhost:8080/"
        },
        "outputId": "704fb512-32eb-40e8-d18b-0977666605a4"
      },
      "execution_count": 18,
      "outputs": [
        {
          "output_type": "stream",
          "name": "stdout",
          "text": [
            "(332, 10)\n",
            "(110, 10)\n",
            "(332,)\n",
            "(110,)\n"
          ]
        }
      ]
    },
    {
      "cell_type": "markdown",
      "source": [
        "## Problem 6\n",
        "Add a dummy feature, i.e., a column containing all 1's (as the first column) in $X_{train}$ and $X_{test}$.\n",
        "\n",
        "Take the transpose of both $X_{train}$ and $X_{test}$.\n",
        "\n",
        "What are the shapes of $X_{train}$ and $X_{test}$?\n",
        "\n"
      ],
      "metadata": {
        "id": "nYgSo6DLe0n-"
      }
    },
    {
      "cell_type": "code",
      "source": [
        "# Write your solution code here\n",
        "X_train = np.hstack([np.ones((X_train.shape[0], 1)), X_train])\n",
        "X_test = np.hstack([np.ones((X_test.shape[0], 1)), X_test])\n",
        "\n",
        "X_train = X_train.T\n",
        "X_test = X_test.T\n",
        "\n",
        "print(X_train.shape)\n",
        "print(X_test.shape)"
      ],
      "metadata": {
        "id": "Lgv2V9qnnNv3",
        "colab": {
          "base_uri": "https://localhost:8080/"
        },
        "outputId": "ca4b6094-dad6-4380-f28e-01ae328fd039"
      },
      "execution_count": 19,
      "outputs": [
        {
          "output_type": "stream",
          "name": "stdout",
          "text": [
            "(11, 332)\n",
            "(11, 110)\n"
          ]
        }
      ]
    },
    {
      "cell_type": "markdown",
      "source": [
        "## Problem 7\n",
        "\n",
        "Write a function `compute_weights(X, y)` that uses the closed form formula of linear regression and returns a weight vector.\n",
        "\n",
        "Call this function by passing $X_{train}$ and $y_{train}$. As the dummy feature was added as the first column, the first value in the weight vector will be the intercept. What is its value (rounded to one decimal place)?\n",
        "\n",
        "---\n",
        "\n",
        "The closed-form solution for linear regression is:\n",
        "$$\n",
        "  w = (XX^T)^{-1}Xy\n",
        "$$\n",
        "\n"
      ],
      "metadata": {
        "id": "mYY6hNkYf7gr"
      }
    },
    {
      "cell_type": "code",
      "source": [
        "# Write your solution code here\n",
        "def compute_weights(X, y):\n",
        "  weights = np.linalg.inv(X @ X.T) @ X @ y\n",
        "  return weights\n",
        "\n",
        "weights = compute_weights(X_train, y_train)\n",
        "# weights.shape = (11,)\n",
        "round(weights[0])"
      ],
      "metadata": {
        "id": "XWxPR8N5nc17",
        "colab": {
          "base_uri": "https://localhost:8080/"
        },
        "outputId": "e68ef6db-621c-42c0-bb33-95a562747cc2"
      },
      "execution_count": 23,
      "outputs": [
        {
          "output_type": "execute_result",
          "data": {
            "text/plain": [
              "153"
            ]
          },
          "metadata": {},
          "execution_count": 23
        }
      ]
    },
    {
      "cell_type": "markdown",
      "source": [
        "## Problem 8\n",
        "\n",
        "Write a function `MSE(X, y, w)` that returns the mean squared error for the given `X`, `y` as per `w` values.\n",
        "\n",
        "Using this function, compute the train error and test error.\n",
        "\n",
        "Note: Here `y` is the true `y` for `X`.\n",
        "\n",
        "Compute both train and test error.\n",
        "\n",
        "What is the value of test error?\n"
      ],
      "metadata": {
        "id": "XUKviVRZoh2j"
      }
    },
    {
      "cell_type": "code",
      "source": [
        "# Write your solution code here\n",
        "def MSE(X, y, w):\n",
        "    predictions = w.T @ X\n",
        "    mse = np.mean((y - predictions) ** 2)\n",
        "    return mse\n",
        "\n",
        "train_error = MSE(X_train, y_train, weights)\n",
        "test_error = MSE(X_test, y_test, weights)\n",
        "print(\"Test Error:\", test_error)"
      ],
      "metadata": {
        "id": "PkAULslJD48q",
        "colab": {
          "base_uri": "https://localhost:8080/"
        },
        "outputId": "04f2f516-8f61-4e1b-df53-7986698e1812"
      },
      "execution_count": 24,
      "outputs": [
        {
          "output_type": "stream",
          "name": "stdout",
          "text": [
            "Test Error: 3205.7177135064812\n"
          ]
        }
      ]
    },
    {
      "cell_type": "markdown",
      "source": [
        "## Problem 9\n",
        "\n",
        "Write a function `compute_weights_ridge(X, y)` that uses the closed form formula of Ridge regression and returns a weight vector.\n",
        "\n",
        "Call this function by passing  `X_train`, `y_train` and 0.3 as the value of regularization strength.\n",
        "\n",
        "\n",
        "Find the sum of values in the weight vector obtained. How much reduction in total sum of weights is achieved with respect to the the weight vector obtained from 'plain' linear regression (without regularization) computed earlier.\n",
        "\n",
        "---\n",
        "The closed-form solution for ridge regression is:\n",
        "$$\n",
        "  w = (XX^T + \\alpha I)^{-1} Xy\n",
        "$$\n"
      ],
      "metadata": {
        "id": "mZZVbejulHyv"
      }
    },
    {
      "cell_type": "code",
      "source": [
        "# Write your solution code here\n",
        "def compute_weights_ridge(X, y, alpha):\n",
        "    d = X.shape[0]\n",
        "    I = np.identity(d)  # Identity matrix of shape (d+1, d+1)\n",
        "    weights = np.linalg.inv(X @ X.T + alpha * I) @ X @ y\n",
        "    return weights\n",
        "\n",
        "# Ridge with alpha = 0.3\n",
        "ridge_weights = compute_weights_ridge(X_train, y_train, 0.3)\n",
        "\n",
        "# Sum of weights for Ridge regression\n",
        "ridge_weights_sum = np.sum(ridge_weights)\n",
        "\n",
        "# Reduction in total sum of weights\n",
        "plain_weights_sum = np.sum(weights)  # Sum of weights from plain linear regression\n",
        "reduction_in_weights_sum = plain_weights_sum - ridge_weights_sum\n",
        "\n",
        "# Print results\n",
        "print(\"Sum of Ridge Weights:\", ridge_weights_sum)\n",
        "print(\"Reduction in Sum of Weights:\", reduction_in_weights_sum)"
      ],
      "metadata": {
        "id": "LCyCWK9dqZm1",
        "colab": {
          "base_uri": "https://localhost:8080/"
        },
        "outputId": "997640c7-a3a2-47e0-a715-0cce546c1978"
      },
      "execution_count": 25,
      "outputs": [
        {
          "output_type": "stream",
          "name": "stdout",
          "text": [
            "Sum of Ridge Weights: 984.7352995995072\n",
            "Reduction in Sum of Weights: 373.33320246076255\n"
          ]
        }
      ]
    },
    {
      "cell_type": "markdown",
      "source": [
        "## Problem 10\n",
        "\n",
        "Compute the train error and test error. What is their absolute difference?\n",
        "\n"
      ],
      "metadata": {
        "id": "LC9Au6sPt1oT"
      }
    },
    {
      "cell_type": "code",
      "source": [
        "# Write your solution code here\n",
        "ridge_train_error = MSE(X_train, y_train, ridge_weights)\n",
        "ridge_test_error = MSE(X_test, y_test, ridge_weights)\n",
        "\n",
        "print(\"Absolute difference of the train and test error: \", abs(ridge_train_error - ridge_test_error))"
      ],
      "metadata": {
        "id": "iOUjJJpZ3BaZ",
        "colab": {
          "base_uri": "https://localhost:8080/"
        },
        "outputId": "48bc4df8-6832-4817-b893-1fe79b1e9a9c"
      },
      "execution_count": 26,
      "outputs": [
        {
          "output_type": "stream",
          "name": "stdout",
          "text": [
            "Absolute difference of the train and test error:  189.15638044975412\n"
          ]
        }
      ]
    },
    {
      "cell_type": "markdown",
      "source": [
        "## Problem 11\n",
        "\n",
        "Use 10 different values between 0 and 5 as the regularization strength and keep a record of the weight vectors obtained for each. Further, calculate the sum of weights for each weight vector.\n",
        "\n",
        "Plot these sums of weights (on y-axis) with respect to the regularization strength (on x-axis) and observe the reduction in (sum of) weights.\n",
        "\n"
      ],
      "metadata": {
        "id": "Wn6-FG5puh8O"
      }
    },
    {
      "cell_type": "code",
      "source": [
        "# Write your solution code here\n",
        "alphas = np.linspace(0, 5, 10)\n",
        "sum_of_weights = []\n",
        "\n",
        "# Perform Ridge regression for each regularization strength\n",
        "for alpha in alphas:\n",
        "  w = compute_weights_ridge(X_train, y_train, alpha)\n",
        "  sum_of_weights.append(np.sum(w))\n",
        "\n",
        "# Plotting the sum of weights against regularization strength\n",
        "plt.figure(figsize=(4,4))\n",
        "plt.plot(alphas, sum_of_weights, marker='o', color='maroon')\n",
        "plt.title('Sum of Weights vs Regularization Strength (Ridge Regression)')\n",
        "plt.xlabel('Regularization Strength (alpha)')\n",
        "plt.ylabel('Sum of Weights')\n",
        "plt.grid(True)\n",
        "plt.show()"
      ],
      "metadata": {
        "id": "zlzueWYWwtSi",
        "colab": {
          "base_uri": "https://localhost:8080/",
          "height": 410
        },
        "outputId": "0367de3b-fb65-4a86-96a8-06346a000c84"
      },
      "execution_count": 31,
      "outputs": [
        {
          "output_type": "display_data",
          "data": {
            "text/plain": [
              "<Figure size 400x400 with 1 Axes>"
            ],
            "image/png": "[encoded data removed]"
          },
          "metadata": {}
        }
      ]
    }
  ]
}