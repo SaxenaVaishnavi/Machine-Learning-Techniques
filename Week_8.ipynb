{
  "nbformat": 4,
  "nbformat_minor": 0,
  "metadata": {
    "colab": {
      "provenance": [],
      "include_colab_link": true
    },
    "kernelspec": {
      "name": "python3",
      "display_name": "Python 3"
    },
    "language_info": {
      "name": "python"
    }
  },
  "cells": [
    {
      "cell_type": "markdown",
      "metadata": {
        "id": "view-in-github",
        "colab_type": "text"
      },
      "source": [
        "<a href=\"https://colab.research.google.com/github/SaxenaVaishnavi/Machine-Learning-Techniques/blob/main/Week_8.ipynb\" target=\"_parent\"><img src=\"https://colab.research.google.com/assets/colab-badge.svg\" alt=\"Open In Colab\"/></a>"
      ]
    },
    {
      "cell_type": "code",
      "execution_count": 6,
      "metadata": {
        "id": "IeFUTqbNKOzL"
      },
      "outputs": [],
      "source": [
        "import numpy as np\n",
        "import matplotlib.pyplot as plt"
      ]
    },
    {
      "cell_type": "markdown",
      "source": [
        "# Bernoulli naive Bayes"
      ],
      "metadata": {
        "id": "3KUeTDaZuse4"
      }
    },
    {
      "cell_type": "markdown",
      "source": [
        "Run the below cell to get the following variables:\n",
        "\n",
        "`X` = Data matrix of shape $(n, d)$. All the features are binary taking values $0$ or $1$.\n",
        "\n",
        "`y` = label vector. Labels are $0$ and $1$."
      ],
      "metadata": {
        "id": "xpHCecV1uwdn"
      }
    },
    {
      "cell_type": "code",
      "source": [
        "rng = np.random.default_rng(seed=1)\n",
        "X1 = np.concatenate((rng.binomial(size = 50,n = 1, p =0.7), rng.binomial(size = 50,n = 1, p =0.2))).reshape(-1, 1)\n",
        "X2 = np.concatenate((rng.binomial(size = 50,n = 1, p =0.6), rng.binomial(size = 50,n = 1, p =0.1))).reshape(-1, 1)\n",
        "X3 = np.concatenate((rng.binomial(size = 50,n = 1, p =0.6), rng.binomial(size = 50,n = 1, p =0.2))).reshape(-1, 1)\n",
        "X4 = np.concatenate((rng.binomial(size = 50,n = 1, p =0.8), rng.binomial(size = 50,n = 1, p =0.1))).reshape(-1, 1)\n",
        "\n",
        "X = np.column_stack((X1,X2,X3,X4))\n",
        "\n",
        "y = np.concatenate((np.zeros(50, dtype= int), np.ones(50, dtype = int))).reshape(-1, 1)\n",
        "permute = rng.permuted(range(100))\n",
        "\n",
        "X = X[permute]\n",
        "y = y[permute]"
      ],
      "metadata": {
        "id": "0PxEvCrZ3FD_"
      },
      "execution_count": 2,
      "outputs": []
    },
    {
      "cell_type": "code",
      "source": [
        "print(X.shape)\n",
        "print(y.shape)"
      ],
      "metadata": {
        "colab": {
          "base_uri": "https://localhost:8080/"
        },
        "id": "v9A6ZC76G0kK",
        "outputId": "fde690c0-001c-4ab1-dcb0-f46e72f9660d"
      },
      "execution_count": 3,
      "outputs": [
        {
          "output_type": "stream",
          "name": "stdout",
          "text": [
            "(100, 4)\n",
            "(100, 1)\n"
          ]
        }
      ]
    },
    {
      "cell_type": "markdown",
      "source": [
        "## Question 1\n",
        "If we train the naive Bayes model on the dataset, What will be the value of $\\hat{p}$, the estimate for $P(Y=1)$?\n",
        "\n",
        "---\n",
        "$$\n",
        "  \\hat{p} = \\frac{\\text{Number of samples with Y = 1}}{\\text{Total number of samples}}\n",
        "$$\n"
      ],
      "metadata": {
        "id": "Zl_usamKCeY5"
      }
    },
    {
      "cell_type": "code",
      "source": [
        "# Enter your solution here\n",
        "count_y1 = np.sum(y == 1)\n",
        "total_samples = X.shape[0]\n",
        "p_hat = count_y1/total_samples\n",
        "print(f\"Estimated P(Y = 1): {p_hat}\")"
      ],
      "metadata": {
        "id": "J5lPVYy-8yLf",
        "colab": {
          "base_uri": "https://localhost:8080/"
        },
        "outputId": "bef58d14-3d89-415f-e68d-1213b4859610"
      },
      "execution_count": 4,
      "outputs": [
        {
          "output_type": "stream",
          "name": "stdout",
          "text": [
            "Estimated P(Y = 1): 0.5\n"
          ]
        }
      ]
    },
    {
      "cell_type": "markdown",
      "source": [
        "## Question 2\n",
        "What will be the value of $\\hat{p}_0^0$, the estimate of $P(f_0=1|y=0)$?  Write your answer correct to two decimal places.\n",
        "\n",
        "---\n",
        "Using Baye's:\n",
        "$$\n",
        "  \\hat{p}^{label}_{feature}=\\hat{p}^0_0 = P(f_0 = 1 | y = 0) = \\frac {P(f_0 = 1) \\cdot P(y = 0 | f_0 = 1)} {P(y = 0 )}\n",
        "$$\n"
      ],
      "metadata": {
        "id": "yOoMZca0DGhs"
      }
    },
    {
      "cell_type": "code",
      "source": [
        "# Enter your solution here\n",
        "def p(feature, label):\n",
        "  '''\n",
        "  For eg: in this case, we want to find the probability that the first feature (feature with index=0) is 1, given that the label\n",
        "  for this data point (y) is 0. We will compute the value of the following -\n",
        "        np.sum((X[:, 0] == 1) & (y.flatten() == 0)) / np.sum(y.flatten() == 0)\n",
        "  '''\n",
        "  return np.sum((X[:, feature] == 1) & (y.flatten() == label)) / np.sum(y.flatten() == label)\n",
        "\n",
        "print(p(feature=0, label=0))"
      ],
      "metadata": {
        "id": "8sD0Ryp0fEnp",
        "colab": {
          "base_uri": "https://localhost:8080/"
        },
        "outputId": "f4fb33b1-a583-4d61-f042-b7a84e428653"
      },
      "execution_count": 5,
      "outputs": [
        {
          "output_type": "stream",
          "name": "stdout",
          "text": [
            "0.68\n"
          ]
        }
      ]
    },
    {
      "cell_type": "markdown",
      "source": [
        "## Question 3\n",
        "What will be the value of $\\hat{p}_0^1$, the estimate of $P(f_0=1|y=1)$?  Write your answer correct to two decimal places.\n",
        "\n"
      ],
      "metadata": {
        "id": "YzJLLT6-G8GC"
      }
    },
    {
      "cell_type": "code",
      "source": [
        "# Enter your solution here\n",
        "print(p(feature=0, label=1))"
      ],
      "metadata": {
        "id": "q7qSgWyXfFhF",
        "colab": {
          "base_uri": "https://localhost:8080/"
        },
        "outputId": "ff7a8b58-ea11-47b8-d7fa-4fba038fc22a"
      },
      "execution_count": 6,
      "outputs": [
        {
          "output_type": "stream",
          "name": "stdout",
          "text": [
            "0.26\n"
          ]
        }
      ]
    },
    {
      "cell_type": "markdown",
      "source": [
        "## Question 4\n",
        "What will be the value of $\\hat{p}_3^1$, the estimate of $P(f_3=1|y=1)$?  Write your answer correct to two decimal places.\n",
        "\n",
        "\n"
      ],
      "metadata": {
        "id": "NiciwccfHGwq"
      }
    },
    {
      "cell_type": "code",
      "source": [
        "# Enter your solution here\n",
        "print(p(feature=3, label=1))"
      ],
      "metadata": {
        "id": "YtXPKjmp6zOt",
        "colab": {
          "base_uri": "https://localhost:8080/"
        },
        "outputId": "1141e885-dda1-4ca0-d490-c450015f6ad1"
      },
      "execution_count": 7,
      "outputs": [
        {
          "output_type": "stream",
          "name": "stdout",
          "text": [
            "0.12\n"
          ]
        }
      ]
    },
    {
      "cell_type": "markdown",
      "source": [
        "## Question 5\n",
        "\n",
        "What will be the predicted label for the point $[1, 0, 1, 0]$?\n",
        "\n",
        "---\n",
        "The Bernoulli Naive Bayes formula is:\n",
        "$$\n",
        "  P(Y=y | X=x) = \\propto P(Y=y) \\prod_{i=1}^{d}P(f_i=x_i | Y=y)\n",
        "$$\n"
      ],
      "metadata": {
        "id": "3oJ0jnoHHcd9"
      }
    },
    {
      "cell_type": "code",
      "source": [
        "# Enter your solution here\n",
        "def bernoulli_nb_prob(x, class_prob, feature_probs):\n",
        "    prob = class_prob\n",
        "    for i, xi in enumerate(x):\n",
        "        prob *= feature_probs[i] if xi == 1 else (1 - feature_probs[i])\n",
        "    return prob\n",
        "\n",
        "# Probabilities for P(Y=0) and P(Y=1)\n",
        "p_y0 = np.sum(y == 0) / len(y)\n",
        "p_y1 = np.sum(y == 1) / len(y)\n",
        "\n",
        "# Feature probabilities conditioned on Y=0 and Y=1\n",
        "p_features_given_y0 = np.sum(X[y.flatten() == 0], axis=0) / np.sum(y.flatten() == 0)\n",
        "p_features_given_y1 = np.sum(X[y.flatten() == 1], axis=0) / np.sum(y.flatten() == 1)\n",
        "\n",
        "x1 = np.array([1, 0, 1, 0])\n",
        "p_x1_y0 = bernoulli_nb_prob(x1, p_y0, p_features_given_y0)\n",
        "p_x1_y1 = bernoulli_nb_prob(x1, p_y1, p_features_given_y1)\n",
        "predicted_label_x1 = 1 if p_x1_y1 > p_x1_y0 else 0\n",
        "print(f\"Predicted label for [1,0,1,0]: {predicted_label_x1}\")"
      ],
      "metadata": {
        "id": "MoYmaBy9KQSU",
        "colab": {
          "base_uri": "https://localhost:8080/"
        },
        "outputId": "e4bcf529-8654-4157-ebbe-fbcfedfe7194"
      },
      "execution_count": 8,
      "outputs": [
        {
          "output_type": "stream",
          "name": "stdout",
          "text": [
            "Predicted label for [1,0,1,0]: 1\n"
          ]
        }
      ]
    },
    {
      "cell_type": "markdown",
      "source": [
        "## Question 6\n",
        "\n",
        "What will be the predicted label for the point $[1, 0, 1, 1]$?\n",
        "\n"
      ],
      "metadata": {
        "id": "3J2SCm1yHxd4"
      }
    },
    {
      "cell_type": "code",
      "source": [
        "# Enter your solution here\n",
        "x2 = np.array([1, 0, 1, 1])\n",
        "p_x2_y0 = bernoulli_nb_prob(x2, p_y0, p_features_given_y0)\n",
        "p_x2_y1 = bernoulli_nb_prob(x2, p_y1, p_features_given_y1)\n",
        "predicted_label_x2 = 1 if p_x2_y1 > p_x2_y0 else 0\n",
        "print(f\"Predicted label for [1,0,1,1]: {predicted_label_x2}\")"
      ],
      "metadata": {
        "id": "tK04m9YU7cXy",
        "colab": {
          "base_uri": "https://localhost:8080/"
        },
        "outputId": "fc866a08-45e3-4597-d3e8-3ccc28d899ae"
      },
      "execution_count": 9,
      "outputs": [
        {
          "output_type": "stream",
          "name": "stdout",
          "text": [
            "Predicted label for [1,0,1,1]: 0\n"
          ]
        }
      ]
    },
    {
      "cell_type": "markdown",
      "source": [
        "# Gaussian naive Bayes"
      ],
      "metadata": {
        "id": "45p6DAPA7dCl"
      }
    },
    {
      "cell_type": "markdown",
      "source": [
        "Run the below cell to get the following variables:\n",
        "\n",
        "`X_train` = Training dataset of the shape $(n, d)$. All the examples are coming from multivariate gaussian distribution.\n",
        "\n",
        "`y_train` = label vector for corresponding training examples. labels are $0$ and $1$.\n",
        "\n",
        "`X_test` = Test dataset of the shape $(m, d)$, where $m$ is the number of examples in the test dataset. All the examples are coming from multivariate gaussian distribution.\n",
        "\n",
        "`y_test` = label vector for corresponding test examples. labels are $0$ and $1$.\n",
        "\n"
      ],
      "metadata": {
        "id": "bbamhBbvjuzj"
      }
    },
    {
      "cell_type": "code",
      "source": [
        "from sklearn.datasets import make_classification, make_blobs\n",
        "from sklearn.model_selection import train_test_split\n",
        "\n",
        "# generate artificial data points\n",
        "X, y = make_blobs(n_samples = 100,\n",
        "                  n_features=2,\n",
        "                  centers=[[5,5],[10,10]],\n",
        "                  cluster_std=1.5,\n",
        "                  random_state=2)\n",
        "\n",
        "X_train, X_test, y_train, y_test = train_test_split(X, y, test_size=0.2,\n",
        "                                                    random_state=123)"
      ],
      "metadata": {
        "id": "qtqz8DPG7gok"
      },
      "execution_count": 2,
      "outputs": []
    },
    {
      "cell_type": "markdown",
      "source": [
        "## Question 7\n",
        "\n",
        "How many examples are there in the training dataset?\n",
        "\n"
      ],
      "metadata": {
        "id": "BRc3AVIZkphz"
      }
    },
    {
      "cell_type": "code",
      "source": [
        "# Enter your solution here\n",
        "X_train.shape[0]"
      ],
      "metadata": {
        "id": "9nqy1H-nkybF",
        "colab": {
          "base_uri": "https://localhost:8080/"
        },
        "outputId": "2c78fb78-0cca-45bc-9656-580ce91128e6"
      },
      "execution_count": 3,
      "outputs": [
        {
          "output_type": "execute_result",
          "data": {
            "text/plain": [
              "80"
            ]
          },
          "metadata": {},
          "execution_count": 3
        }
      ]
    },
    {
      "cell_type": "markdown",
      "source": [
        "## Question 8\n",
        "How many features are there in the dataset?\n",
        "\n"
      ],
      "metadata": {
        "id": "KhQF7arNk6xf"
      }
    },
    {
      "cell_type": "code",
      "source": [
        "# Enter your solution here\n",
        "X_train.shape[1]"
      ],
      "metadata": {
        "id": "uoO-_Wv9lruv",
        "colab": {
          "base_uri": "https://localhost:8080/"
        },
        "outputId": "52a8d766-4836-435b-ee3b-b085243622b9"
      },
      "execution_count": 4,
      "outputs": [
        {
          "output_type": "execute_result",
          "data": {
            "text/plain": [
              "2"
            ]
          },
          "metadata": {},
          "execution_count": 4
        }
      ]
    },
    {
      "cell_type": "markdown",
      "source": [
        "## Question 9\n",
        "\n",
        "If we train the Gaussian naive Bayes model on the trianing dataset, What will be the value of $\\hat{p}$, the estimate for $P(Y=1)$? Write your answer correct to two decimal places.\n",
        "\n",
        "\n",
        "\n"
      ],
      "metadata": {
        "id": "yf2hc7NDlxm8"
      }
    },
    {
      "cell_type": "code",
      "source": [
        "# Enter your solution here\n",
        "def priors(y):\n",
        "    return np.sum(y == 1)/len(y)\n",
        "\n",
        "priors(y_train)"
      ],
      "metadata": {
        "id": "LpJE6KJ5mpBp",
        "colab": {
          "base_uri": "https://localhost:8080/"
        },
        "outputId": "57519bf9-34de-4b93-ce0c-8f7aecb94d26"
      },
      "execution_count": 7,
      "outputs": [
        {
          "output_type": "execute_result",
          "data": {
            "text/plain": [
              "0.4875"
            ]
          },
          "metadata": {},
          "execution_count": 7
        }
      ]
    },
    {
      "cell_type": "markdown",
      "source": [
        "## Question 10\n",
        "\n",
        "If $\\hat{\\mu}_0 = [\\mu_1, \\mu_2, ..., \\mu_d]$ be the estimate for $\\mu_0$, the mean of $0$ labeled examples, what will be the value of $\\mu_1+\\mu_2+...+\\mu_d$? Write your answer correct to two decimal places.\n",
        "\n"
      ],
      "metadata": {
        "id": "0wQUcpH7mrZr"
      }
    },
    {
      "cell_type": "code",
      "source": [
        "# Enter your solution here\n",
        "X_train_y0 = X_train[y_train == 0]\n",
        "mu_y0 = X_train_y0.mean(axis=0)\n",
        "sum_mu_y0 = mu_y0.sum()\n",
        "round(sum_mu_y0, 2)"
      ],
      "metadata": {
        "id": "mtZ_BtxImJ0J",
        "colab": {
          "base_uri": "https://localhost:8080/"
        },
        "outputId": "3b62003e-4fe2-4bd5-cf71-7f943f13e513"
      },
      "execution_count": 8,
      "outputs": [
        {
          "output_type": "execute_result",
          "data": {
            "text/plain": [
              "9.58"
            ]
          },
          "metadata": {},
          "execution_count": 8
        }
      ]
    },
    {
      "cell_type": "markdown",
      "source": [
        "We will be using the different covariances for different labeled examples. The estimate for $\\Sigma_k$ will be\n",
        "\n",
        "$$\\hat{\\Sigma}_k = \\sigma_iI$$ where $\\sigma_i$ is the variance of $i^{th}$ feature values of examples labeled $k$.\n",
        "\n"
      ],
      "metadata": {
        "id": "1mnoFEJQnq9E"
      }
    },
    {
      "cell_type": "markdown",
      "source": [
        "## Question 11\n",
        "What will be value of $\\text{trace}({\\hat{\\Sigma}}_0)$?  Write your answer correct to two decimal places.\n",
        "\n",
        "---\n",
        "For Gaussian Naive Bayes, we treat the covariance matrix $\\Sigma^0$ as a diagonal matrix, where each diagonal element corresponds to the variance of a feature.\n",
        "\n",
        "$$\n",
        "\\Sigma^0 =\n",
        "  \\begin{bmatrix}\n",
        "      \\sigma_1^2 & 0 & 0 & \\dots & 0 \\\\\n",
        "      0 & \\sigma_2^2 & 0 & \\dots & 0 \\\\\n",
        "      0 & 0 & \\sigma_3^2 & \\dots & 0 \\\\\n",
        "      \\vdots & \\vdots & \\vdots & \\ddots & 0 \\\\\n",
        "      0 & 0 & 0 & \\dots & \\sigma_d^2\n",
        "  \\end{bmatrix}\n",
        "$$\n",
        "\n",
        "\n",
        "\n",
        "\n",
        "\n"
      ],
      "metadata": {
        "id": "f-aioEqdpng7"
      }
    },
    {
      "cell_type": "code",
      "source": [
        "# Enter your solution here\n",
        "X_train_y0 = X_train[y_train == 0]\n",
        "variances_y0 = X_train_y0.var(axis=0)\n",
        "trace_sigma_0 = variances_y0.sum()\n",
        "round(trace_sigma_0, 2)"
      ],
      "metadata": {
        "id": "ExzW4sEOqpEF",
        "colab": {
          "base_uri": "https://localhost:8080/"
        },
        "outputId": "5f8e2b52-3b8a-4ae2-808f-93db71f217ff"
      },
      "execution_count": 9,
      "outputs": [
        {
          "output_type": "execute_result",
          "data": {
            "text/plain": [
              "4.44"
            ]
          },
          "metadata": {},
          "execution_count": 9
        }
      ]
    },
    {
      "cell_type": "markdown",
      "source": [
        "## Question 12\n",
        "\n",
        "Once we have estimated all the parameters for Gaussian naive Bayes assuming the different covariance matrices, we predict the labels for the training examples. What will be the training accuracy?\n",
        "\n",
        "Accuracy is defined as the proportion of correctly classified examples.  Write your answer correct to two decimal places.\n",
        "\n",
        "\n"
      ],
      "metadata": {
        "id": "UKbeWd7fq1Ny"
      }
    },
    {
      "cell_type": "code",
      "source": [
        "# Enter your solution here\n",
        "def gaussian_pdf(sample, prior, means, variances, label):\n",
        "    covariance_matrix = np.diag(variances[label])  # Creating a diagonal covariance matrix for the class\n",
        "    normalization_factor = (\n",
        "        (2 * np.pi) ** (sample.shape[0] / 2) * np.linalg.det(covariance_matrix) ** 0.5\n",
        "    )\n",
        "    exponent_term = -0.5 * ((sample - means[label]).T @ np.linalg.inv(covariance_matrix) @ (sample - means[label]))\n",
        "    return (1 / normalization_factor) * np.exp(exponent_term)\n",
        "\n",
        "def predict_labels(X, prior, means, variances, labels):\n",
        "    log_posterior = np.zeros((X.shape[0], len(labels)))  # log posterior matrix\n",
        "\n",
        "    for sample_idx, sample in enumerate(X):\n",
        "        for class_idx, label in enumerate(labels):\n",
        "            # log of likelihood + log prior for each class\n",
        "            log_posterior[sample_idx, class_idx] = (\n",
        "                np.log(gaussian_pdf(sample, prior, means, variances, label)) +\n",
        "                np.log(prior if label == 1 else (1 - prior))\n",
        "            )\n",
        "\n",
        "    # label prediction\n",
        "    return np.argmax(log_posterior, axis=1)\n",
        "\n",
        "p = np.mean(y_train == 1)\n",
        "labels = np.unique(y_train)  # e.g., [0, 1] for binary classification\n",
        "mu = np.array([X_train[y_train == label].mean(axis=0) for label in labels])  # Mean for each class\n",
        "sigma = np.array([X_train[y_train == label].var(axis=0) for label in labels])  # Variance for each class\n",
        "training_accuracy = np.mean(predict_labels(X_train, p, mu, sigma, labels) == y_train)\n",
        "print(f\"Training Accuracy: {training_accuracy}\")"
      ],
      "metadata": {
        "id": "YIg9Z1K0GwUo",
        "colab": {
          "base_uri": "https://localhost:8080/"
        },
        "outputId": "cf5f2a6b-db88-4c28-da44-8ac619a7857d"
      },
      "execution_count": 13,
      "outputs": [
        {
          "output_type": "stream",
          "name": "stdout",
          "text": [
            "Training Accuracy: 0.9875\n"
          ]
        }
      ]
    },
    {
      "cell_type": "markdown",
      "source": [
        "## Question 13\n",
        "\n",
        "What will be the test accuracy?\n",
        "\n",
        "Accuracy is defined as the proportion of correctly classified examples.  \n",
        "\n",
        "\n"
      ],
      "metadata": {
        "id": "kg661kj3uaxx"
      }
    },
    {
      "cell_type": "code",
      "source": [
        "# Enter your solution here\n",
        "test_accuracy = np.mean(predict_labels(X_test, p, mu, sigma, labels) == y_test)\n",
        "print(f\"Test Accuracy: {test_accuracy}\")"
      ],
      "metadata": {
        "id": "ST0Ri7TEujUw",
        "colab": {
          "base_uri": "https://localhost:8080/"
        },
        "outputId": "dc6fcea2-5549-4edb-f035-62df7cbe604b"
      },
      "execution_count": 15,
      "outputs": [
        {
          "output_type": "stream",
          "name": "stdout",
          "text": [
            "Test Accuracy: 1.0\n"
          ]
        }
      ]
    }
  ]
}